{
 "cells": [
  {
   "cell_type": "code",
   "execution_count": null,
   "id": "41af5717",
   "metadata": {},
   "outputs": [],
   "source": [
    "import sys\n",
    "import os\n",
    "from dotenv import load_dotenv\n",
    "load_dotenv()\n",
    "ROOT_DIR_PATH = os.environ.get('ROOT_PATH')\n",
    "sys.path.append(os.path.abspath(ROOT_DIR_PATH))  # Adds root directory to sys.path"
   ]
  },
  {
   "cell_type": "code",
   "execution_count": null,
   "id": "a59737e6",
   "metadata": {},
   "outputs": [],
   "source": [
    "from utils.data_loader import DatasetLoader\n",
    "from utils.config_loader import load_config\n",
    "print('loading config')\n",
    "# Load config\n",
    "config = load_config(f\"{ROOT_DIR_PATH}/config/vit_config.yaml\")\n",
    "\n",
    "# *************  choosing the DATASET & MODEL *************\n",
    "\n",
    "dataset_config = config[\"data\"]['CALTECH256']\n",
    "trainingConfig = config['training_dummy']\n",
    "\n",
    "# **********************************************************\n",
    "\n",
    "# data\n",
    "DATASET = dataset_config[\"dataset\"]\n",
    "DATA_DIR =f'{ROOT_DIR_PATH}/data/{DATASET}/'\n",
    "BATCH = dataset_config[\"batch_size\"]\n",
    "NUM_WORKERS = dataset_config[\"num_workers\"]\n",
    "IMAGE = dataset_config[\"img_size\"]\n",
    "NUM_CLASSES = dataset_config[\"num_classes\"]\n",
    "CHANNELS = dataset_config[\"channels\"]\n",
    "if DATASET == 'TINYIMAGENET200':\n",
    "    SUBSET_ENABLED = dataset_config['subset_enabled']\n",
    "    SUBSET_SIZE = dataset_config['subset_size']\n",
    "\n",
    "# loading data\n",
    "print(f'loading dataset : {DATASET}')\n",
    "loader = DatasetLoader(training_config=trainingConfig,\n",
    "                        dataset_name=DATASET,\n",
    "                        data_dir=DATA_DIR,\n",
    "                        batch_size=BATCH,\n",
    "                        num_workers=NUM_WORKERS,\n",
    "                        img_size=IMAGE)\n",
    "train_loader, val_loader = loader.get_loaders()\n",
    "print(f\"Train batches: {len(train_loader)}, Validation batches: {len(val_loader)}\")\n",
    "print('data sanity check')\n",
    "for images, labels in train_loader:\n",
    "    print(f'image shape and labels shape in training data - one batch : {images.shape}, {labels.shape}')\n",
    "    break"
   ]
  },
  {
   "cell_type": "code",
   "execution_count": null,
   "id": "254c7a06",
   "metadata": {},
   "outputs": [],
   "source": [
    "import torch\n",
    "import torch.nn as nn\n",
    "import torch.optim as optim\n",
    "from torch.utils.data import DataLoader, Subset\n",
    "from torchvision import transforms, datasets\n",
    "from timm.models.vision_transformer import vit_tiny_patch16_224\n",
    "import os\n",
    "import gc\n",
    "from collections import defaultdict\n",
    "\n",
    "torch.cuda.empty_cache()\n",
    "torch.cuda.ipc_collect()\n",
    "gc.collect()\n",
    "\n",
    "from timm.models.vision_transformer import vit_tiny_patch16_224\n",
    "\n",
    "BATCH_SIZE = 32\n",
    "NUM_CLASSES = 10\n",
    "EPOCHS = 25\n",
    "LR = 0.001\n",
    "IMG_SIZE = 224\n",
    "\n",
    "# ========== Model ==========\n",
    "DEVICE = torch.device(\"cuda\" if torch.cuda.is_available() else \"cpu\")\n",
    "model = vit_tiny_patch16_224(pretrained=False, num_classes=NUM_CLASSES).to(DEVICE)\n",
    "\n",
    "# ========== Loss & Optimizer ==========\n",
    "criterion = nn.CrossEntropyLoss()\n",
    "optimizer = optim.Adam(model.parameters(), lr=LR)\n",
    "\n",
    "# ========== Train Loop ==========\n",
    "for epoch in range(EPOCHS):\n",
    "    model.train()\n",
    "    total, correct = 0, 0\n",
    "    for images, labels in train_loader:\n",
    "        images, labels = images.to(DEVICE), labels.to(DEVICE)\n",
    "        optimizer.zero_grad()\n",
    "        outputs = model(images)\n",
    "        loss = criterion(outputs, labels)\n",
    "        loss.backward()\n",
    "        optimizer.step()\n",
    "\n",
    "        preds = outputs.argmax(dim=1)\n",
    "        correct += (preds == labels).sum().item()\n",
    "        total += labels.size(0)\n",
    "\n",
    "    acc = 100. * correct / total\n",
    "    print(f\"Epoch {epoch+1:02d} | Train Acc: {acc:.2f}%\")\n",
    "\n",
    "    # stop early if we hit 100% train acc\n",
    "    if acc == 100.0:\n",
    "        print(\"Model has successfully overfitted the subset.\")\n",
    "        break\n"
   ]
  },
  {
   "cell_type": "code",
   "execution_count": null,
   "id": "ba7494f3",
   "metadata": {},
   "outputs": [],
   "source": [
    "import torch\n",
    "import torch.nn as nn\n",
    "import torch.optim as optim\n",
    "from torch.utils.data import DataLoader, Subset\n",
    "from torchvision import transforms, datasets\n",
    "from timm.models.vision_transformer import vit_tiny_patch16_224\n",
    "import os\n",
    "import gc\n",
    "from collections import defaultdict\n",
    "\n",
    "torch.cuda.empty_cache()\n",
    "torch.cuda.ipc_collect()\n",
    "gc.collect()\n",
    "\n",
    "BATCH_SIZE = 32\n",
    "NUM_CLASSES = 10\n",
    "EPOCHS = 25\n",
    "LR = 0.001\n",
    "IMG_SIZE = 224\n",
    "\n",
    "# ========== Model ==========\n",
    "DEVICE = torch.device(\"cuda\" if torch.cuda.is_available() else \"cpu\")\n",
    "\n",
    "\n",
    "class TwoLayerCNN(nn.Module):\n",
    "    def __init__(self, num_classes, img_size):\n",
    "        super().__init__()\n",
    "        self.model = nn.Sequential(\n",
    "            nn.Conv2d(3, 32, kernel_size=3, padding=1),  # (B, 32, 64, 64)\n",
    "            nn.ReLU(),\n",
    "            nn.MaxPool2d(2),  # (B, 32, 32, 32)\n",
    "            nn.Conv2d(32, 64, kernel_size=3, padding=1),  # (B, 64, 32, 32)\n",
    "            nn.ReLU(),\n",
    "            nn.MaxPool2d(2),  # (B, 64, 16, 16)\n",
    "            nn.Flatten(),  # (B, 64*16*16)\n",
    "            nn.Linear(64 * (img_size // 4) * (img_size // 4), 128),\n",
    "            nn.ReLU(),\n",
    "            nn.Linear(128, num_classes)\n",
    "        )\n",
    "\n",
    "    def forward(self, x):\n",
    "        return self.model(x)\n",
    "model = TwoLayerCNN(num_classes=NUM_CLASSES, img_size=IMG_SIZE).to(DEVICE)\n",
    "\n",
    "# ========== Loss & Optimizer ==========\n",
    "criterion = nn.CrossEntropyLoss()\n",
    "optimizer = optim.Adam(model.parameters(), lr=LR)\n",
    "\n",
    "# ========== Train Loop ==========\n",
    "for epoch in range(EPOCHS):\n",
    "    model.train()\n",
    "    total, correct = 0, 0\n",
    "    for images, labels in train_loader:\n",
    "        images, labels = images.to(DEVICE), labels.to(DEVICE)\n",
    "        optimizer.zero_grad()\n",
    "        outputs = model(images)\n",
    "        loss = criterion(outputs, labels)\n",
    "        loss.backward()\n",
    "        optimizer.step()\n",
    "\n",
    "        preds = outputs.argmax(dim=1)\n",
    "        correct += (preds == labels).sum().item()\n",
    "        total += labels.size(0)\n",
    "\n",
    "    acc = 100. * correct / total\n",
    "    print(f\"Epoch {epoch+1:02d} | Train Acc: {acc:.2f}%\")\n",
    "\n",
    "    # stop early if we hit 100% train acc\n",
    "    if acc == 100.0:\n",
    "        print(\"Model has successfully overfitted the subset.\")\n",
    "        break\n"
   ]
  },
  {
   "cell_type": "markdown",
   "id": "00a964cc",
   "metadata": {},
   "source": [
    "# Mean / STD DEV"
   ]
  },
  {
   "cell_type": "code",
   "execution_count": null,
   "id": "c25f8928",
   "metadata": {},
   "outputs": [],
   "source": [
    "import torch\n",
    "from torchvision import datasets, transforms\n",
    "from torch.utils.data import DataLoader\n",
    "from tqdm import tqdm\n",
    "\n",
    "# Path to your Caltech256 training set (change if needed)\n",
    "data_path = \"/home/wd/Documents/work_stuff/ViT_REPLICATION/data/CALTECH256/train\"\n",
    "\n",
    "# Resize and convert to tensor (no normalization yet)\n",
    "transform = transforms.Compose([\n",
    "    transforms.Resize((224, 224)),  # Resize to a fixed size\n",
    "    transforms.ToTensor()\n",
    "])\n",
    "\n",
    "# Load dataset\n",
    "dataset = datasets.ImageFolder(root=data_path, transform=transform)\n",
    "loader = DataLoader(dataset, batch_size=32, shuffle=False, num_workers=2)\n",
    "\n",
    "# Initialize sums\n",
    "mean = 0.\n",
    "std = 0.\n",
    "nb_samples = 0.\n",
    "\n",
    "# Accumulate mean and std across batches\n",
    "for data, _ in tqdm(loader, desc=\"Computing mean/std\"):\n",
    "    batch_samples = data.size(0)\n",
    "    data = data.view(batch_samples, data.size(1), -1)  # [B, C, H*W]\n",
    "    mean += data.mean(2).sum(0)  # Sum of mean across batch\n",
    "    std += data.std(2).sum(0)    # Sum of std across batch\n",
    "    nb_samples += batch_samples\n",
    "\n",
    "# Final average\n",
    "mean /= nb_samples\n",
    "std /= nb_samples\n",
    "\n",
    "print(f\"\\nDataset Mean: {mean.tolist()}\")\n",
    "print(f\"Dataset Std : {std.tolist()}\")"
   ]
  },
  {
   "cell_type": "markdown",
   "id": "45a32161",
   "metadata": {},
   "source": [
    "# Loading balanced Subset"
   ]
  },
  {
   "cell_type": "code",
   "execution_count": 1,
   "id": "71eeaf1b",
   "metadata": {},
   "outputs": [
    {
     "name": "stderr",
     "output_type": "stream",
     "text": [
      "/home/wd/Documents/work_stuff/ViT_REPLICATION/_vit_rep_py310/lib/python3.10/site-packages/tqdm/auto.py:21: TqdmWarning: IProgress not found. Please update jupyter and ipywidgets. See https://ipywidgets.readthedocs.io/en/stable/user_install.html\n",
      "  from .autonotebook import tqdm as notebook_tqdm\n"
     ]
    }
   ],
   "source": [
    "import os\n",
    "import sys\n",
    "from dotenv import load_dotenv\n",
    "load_dotenv()\n",
    "ROOT_DIR_PATH = os.environ.get('ROOT_PATH')\n",
    "sys.path.append(os.path.abspath(ROOT_DIR_PATH))  # Adds root directory to sys.path\n",
    "\n",
    "from utils.config_loader import load_config\n",
    "from utils.data_loader import DatasetLoader\n",
    "import torch\n",
    "from model.vit_custom import VisionTransformerTiny\n",
    "from torch.amp import GradScaler\n",
    "from torch.amp import autocast\n",
    "from transformers import get_cosine_schedule_with_warmup\n",
    "from timm.data import Mixup\n",
    "import time\n",
    "import torch.nn as nn\n",
    "import torch.optim as optim\n",
    "from tqdm import tqdm\n",
    "import numpy as np"
   ]
  },
  {
   "cell_type": "code",
   "execution_count": 2,
   "id": "7202351e",
   "metadata": {},
   "outputs": [],
   "source": [
    "config = load_config(f\"{ROOT_DIR_PATH}/config/vit_config.yaml\")\n",
    "dataset_config = config[\"data\"]['CALTECH256']\n",
    "specific_config = config[\"model\"]['VIT_TINYV3']\n",
    "trainingConfig = config['training_dummy']\n",
    "DATASET = dataset_config[\"dataset\"]\n",
    "DATA_DIR =f'{ROOT_DIR_PATH}/data/{DATASET}/'\n",
    "NUM_WORKERS = dataset_config[\"num_workers\"]"
   ]
  },
  {
   "cell_type": "code",
   "execution_count": 3,
   "id": "04308c53",
   "metadata": {},
   "outputs": [
    {
     "name": "stdout",
     "output_type": "stream",
     "text": [
      "loading dataset : CALTECH256\n",
      "Dataset directory /home/wd/Documents/work_stuff/ViT_REPLICATION/data/CALTECH256 already exists, zip downloaded.\n",
      "getting balanced subset - class count : 10 - sample per class : 60\n",
      "\n",
      "[TRAINING] Selected Classes and Sample Counts:\n",
      "\n",
      "Class '010.beer-mug' (original label=9): total images = 75, using = 60\n",
      "Class '020.brain-101' (original label=19): total images = 66, using = 60\n",
      "Class '027.calculator' (original label=26): total images = 80, using = 60\n",
      "Class '173.rifle' (original label=172): total images = 84, using = 60\n",
      "Class '174.rotary-phone' (original label=173): total images = 67, using = 60\n",
      "Class '176.saddle' (original label=175): total images = 88, using = 60\n",
      "Class '177.saturn' (original label=176): total images = 76, using = 60\n",
      "Class '191.sneaker' (original label=190): total images = 88, using = 60\n",
      "Class '211.tambourine' (original label=210): total images = 76, using = 60\n",
      "Class '254.greyhound' (original label=253): total images = 76, using = 60\n",
      "\n",
      "Total selected samples: 600\n",
      "Dataset directory /home/wd/Documents/work_stuff/ViT_REPLICATION/data/CALTECH256 already exists, zip downloaded.\n",
      "\n",
      "[VALIDATION] Selected Classes and Sample Counts:\n",
      "\n",
      "Class '010.beer-mug' (original label=9): total images = 19, using = 19\n",
      "Class '020.brain-101' (original label=19): total images = 17, using = 17\n",
      "Class '027.calculator' (original label=26): total images = 20, using = 20\n",
      "Class '173.rifle' (original label=172): total images = 22, using = 22\n",
      "Class '174.rotary-phone' (original label=173): total images = 17, using = 17\n",
      "Class '176.saddle' (original label=175): total images = 22, using = 22\n",
      "Class '177.saturn' (original label=176): total images = 20, using = 20\n",
      "Class '191.sneaker' (original label=190): total images = 23, using = 23\n",
      "Class '211.tambourine' (original label=210): total images = 19, using = 19\n",
      "Class '254.greyhound' (original label=253): total images = 19, using = 19\n",
      "\n",
      "Total selected samples: 198\n",
      "DEBUG **************\n",
      "Selected classes: ['020.brain-101', '173.rifle', '254.greyhound', '010.beer-mug', '174.rotary-phone', '191.sneaker', '176.saddle', '177.saturn', '027.calculator', '211.tambourine']\n",
      "Train size: 600\n",
      "Val size: 198\n",
      "Validation label counts: Counter({7: 23, 3: 22, 5: 22, 2: 20, 6: 20, 0: 19, 8: 19, 9: 19, 1: 17, 4: 17})\n",
      "DEBUG **************\n",
      "training size  : 600\n",
      "validation size : 198\n",
      "Classes: 10\n",
      "Sample label: 0\n",
      "Train batches: 10, Validation batches: 4\n",
      "data sanity check\n",
      "image shape and labels shape in training data - one batch : torch.Size([64, 3, 224, 224]), torch.Size([64])\n"
     ]
    }
   ],
   "source": [
    "# loading data\n",
    "print(f'loading dataset : {DATASET}')\n",
    "loader = DatasetLoader(training_config=trainingConfig,\n",
    "                        dataset_name=DATASET,\n",
    "                        data_dir=DATA_DIR,\n",
    "                        num_workers=NUM_WORKERS)\n",
    "train_loader, val_loader = loader.get_loaders()\n",
    "print(f\"Train batches: {len(train_loader)}, Validation batches: {len(val_loader)}\")\n",
    "print('data sanity check')\n",
    "for images, labels in train_loader:\n",
    "    print(f'image shape and labels shape in training data - one batch : {images.shape}, {labels.shape}')\n",
    "    break"
   ]
  },
  {
   "cell_type": "code",
   "execution_count": 4,
   "id": "aed73694",
   "metadata": {
    "vscode": {
     "languageId": "ruby"
    }
   },
   "outputs": [
    {
     "name": "stdout",
     "output_type": "stream",
     "text": [
      "\n",
      "********* Model Params *********\n",
      "{'CHANNEL': 3, 'PATCH': 16, 'EMBEDDING': 192, 'IMAGE': 224, 'NUM_HEADS': 3, 'MLP_RATIO': 4.0, 'DROPOUT': 0.0, 'NUM_CLASSES': 10, 'DEPTH': 8, 'QKV_BIAS': True, 'ATTN_DROP_RATE': 0.0, 'DROP_PATH_RATE': 0.1, '__class__': <class 'model.vit_custom.VisionTransformerTiny'>}\n",
      "\n",
      "\n",
      "Data Configuration:\n",
      "  dataset: CALTECH256\n",
      "  data_path: /home/wd/Documents/work_stuff/ViT_REPLICATION/data/CALTECH256\n",
      "  channels: 3\n",
      "  num_workers: 8\n",
      "  mean_aug: [0.5531906485557556, 0.5342377424240112, 0.5071621537208557]\n",
      "  std_aug: [0.23687367141246796, 0.2358572781085968, 0.2385127693414688]\n",
      "  num_classes: 256\n",
      "Training Configuration:\n",
      "  mixup: {'enabled': True, 'mixup_alpha': 0.1, 'cutmix_alpha': 0.4, 'label_smoothing_mixup': 0.2}\n",
      "  epochs: 200\n",
      "  lr: 0.0003\n",
      "  weight_decay: 0.01\n",
      "  scheduler_warmup: True\n",
      "  warmup_steps: 30\n",
      "  label_smoothing_enabled: False\n",
      "  label_smoothing: 0.0\n",
      "  es_patience: 30\n",
      "  es_improv_delta: 0.001\n",
      "  augmentation_enabled: True\n",
      "  apply_class_balance: True\n",
      "  num_subset_class: 10\n",
      "  num_subset_sample: 60\n",
      "  batch_size: 64\n",
      "  image_size: 224\n"
     ]
    }
   ],
   "source": [
    "# loading model\n",
    "modelConfigDict = {\n",
    "    'CHANNEL' : dataset_config[\"channels\"],\n",
    "    'PATCH' : specific_config['patch_size'],\n",
    "    'EMBEDDING' : specific_config['emb_size'],\n",
    "    'IMAGE' : trainingConfig['image_size'],\n",
    "    'NUM_HEADS' : specific_config['num_heads'],\n",
    "    'MLP_RATIO' : specific_config['mlp_ratio'],\n",
    "    'DROPOUT' : specific_config['dropout'],\n",
    "    'NUM_CLASSES' : trainingConfig['num_subset_class'] if trainingConfig['apply_class_balance'] else dataset_config['num_classes'],\n",
    "    'DEPTH' : specific_config['depth'],\n",
    "    'QKV_BIAS':specific_config['qkv_bias'],\n",
    "    'ATTN_DROP_RATE': specific_config['attn_drop_rate'],\n",
    "    'DROP_PATH_RATE': specific_config['drop_path_rate']\n",
    "}\n",
    "device = torch.device(\"cuda\" if torch.cuda.is_available() else \"cpu\")\n",
    "model = VisionTransformerTiny(**modelConfigDict).to(device)\n",
    "print('Data Configuration:')\n",
    "for k, v in dataset_config.items():\n",
    "    print(f\"  {k}: {v}\")\n",
    "print(\"Training Configuration:\")\n",
    "for k, v in trainingConfig.items():\n",
    "    print(f\"  {k}: {v}\")"
   ]
  },
  {
   "cell_type": "code",
   "execution_count": 5,
   "id": "7d39683f",
   "metadata": {},
   "outputs": [],
   "source": [
    "### training/validation\n",
    "\n",
    "def train_one_epoch(model, loader, criterion, optimizer, scaler, device,\n",
    "                    mixup_fn=None, scheduler_warmup_enabled=False, scheduler_warmup=None):\n",
    "    model.train()\n",
    "    running_loss = 0.0\n",
    "    correct = 0\n",
    "    total = 0\n",
    "\n",
    "    progress_bar = tqdm(loader, desc=\"Training\", leave=True)\n",
    "    for  inputs, targets in progress_bar:\n",
    "        #print(f'input shape : {inputs.shape}, taget_shape : {targets.shape}, target dim : {targets.ndim}')\n",
    "        inputs, targets = inputs.to(device), targets.to(device)\n",
    "        if mixup_fn is not None:\n",
    "            inputs, targets = mixup_fn(inputs, targets)\n",
    "\n",
    "        if targets.ndim == 2:\n",
    "            targets = targets.type_as(inputs)\n",
    "\n",
    "        optimizer.zero_grad()\n",
    "        with autocast(device_type='cuda'):\n",
    "            outputs = model(inputs)\n",
    "            loss = criterion(outputs, targets)\n",
    "        scaler.scale(loss).backward()  \n",
    "        scaler.step(optimizer)         \n",
    "        scaler.update()                \n",
    "\n",
    "        if scheduler_warmup_enabled:\n",
    "            scheduler_warmup.step()\n",
    "\n",
    "        running_loss += loss.item() * inputs.size(0)\n",
    "\n",
    "        if targets.ndim == 2:\n",
    "            # MixUp with soft labels\n",
    "            _, predicted = outputs.max(1)\n",
    "            _, true_classes = targets.max(1)  # Take argmax of soft labels as true class\n",
    "            correct += predicted.eq(true_classes).sum().item()\n",
    "            total += targets.size(0)\n",
    "        else :\n",
    "            _, predicted = outputs.max(1)\n",
    "            correct += predicted.eq(targets).sum().item()\n",
    "            total += targets.size(0)\n",
    "\n",
    "        # Update progress bar with metrics\n",
    "        if total > 0:\n",
    "            avg_loss = running_loss / total\n",
    "            accuracy = 100. * correct / total\n",
    "            progress_bar.set_postfix({\n",
    "                \"Loss\": f\"{avg_loss:.4f}\",\n",
    "                \"Acc\": f\"{accuracy:.2f}%\"\n",
    "            })\n",
    "\n",
    "        else : raise Exception(f'Expected non-zero batch size, but got 0 targets. Check if the dataset is empty or DataLoader is misconfigured.')\n",
    "\n",
    "    \n",
    "    return avg_loss, accuracy\n",
    "\n",
    "def validate(model, loader, criterion, device):\n",
    "    model.eval()\n",
    "    running_loss = 0.0\n",
    "    correct = 0\n",
    "    top5_correct = 0\n",
    "    total = 0\n",
    "    progress_bar = tqdm(loader, desc=\"Validation\", leave=True)\n",
    "    with torch.no_grad():\n",
    "        for inputs, labels in progress_bar:\n",
    "            inputs, labels = inputs.to(device), labels.to(device)\n",
    "\n",
    "            with autocast(device_type='cuda'):\n",
    "                outputs = model(inputs)\n",
    "                loss = criterion(outputs, labels)\n",
    "\n",
    "            running_loss += loss.item() * inputs.size(0)\n",
    "            # Compute accuracy\n",
    "            _, predicted = outputs.max(1)\n",
    "            correct += predicted.eq(labels).sum().item()\n",
    "            # Top-5 Accuracy\n",
    "            _, top5_preds = outputs.topk(5, dim=1, largest=True, sorted=True)\n",
    "            top5_correct += sum([labels[i] in top5_preds[i] for i in range(len(labels))])\n",
    "\n",
    "            total += labels.size(0)\n",
    "\n",
    "            avg_loss = running_loss / total\n",
    "            accuracy = 100. * correct / total\n",
    "            top5_accuracy = 100. * top5_correct / total\n",
    "\n",
    "            progress_bar.set_postfix({\n",
    "                \"Loss\": f\"{avg_loss:.4f}\",\n",
    "                \"Acc\": f\"{accuracy:.2f}%\"\n",
    "            })\n",
    "                \n",
    "    return avg_loss, accuracy, top5_accuracy\n",
    "\n"
   ]
  },
  {
   "cell_type": "code",
   "execution_count": 6,
   "id": "b571b091",
   "metadata": {},
   "outputs": [],
   "source": [
    "### augmentations and improvements\n",
    "mixupConfig = trainingConfig['mixup']\n",
    "MIXUP_ALPHA = mixupConfig[\"mixup_alpha\"]\n",
    "CUTMIX_ALPHA = mixupConfig[\"cutmix_alpha\"]\n",
    "LABEL_SMOOTHENING_MIXUP = mixupConfig[\"label_smoothing_mixup\"]\n",
    "USE_MIXUP = mixupConfig[\"enabled\"]\n",
    "\n",
    "LEARNING_RATE = trainingConfig['lr']\n",
    "EPOCHS = trainingConfig['epochs']\n",
    "WEIGHT_DECAY = trainingConfig['weight_decay']\n",
    "USE_SCHEDULER_WARMUP = trainingConfig['scheduler_warmup']\n",
    "WARMUP_STEPS = trainingConfig['warmup_steps']\n",
    "USE_LABEL_SMOOTHENING = trainingConfig[\"label_smoothing_enabled\"]\n",
    "LABEL_SMOOTHENING = trainingConfig[\"label_smoothing\"]\n",
    "EARLY_STOPPING_PATIENCE = trainingConfig[\"es_patience\"]\n",
    "EARLY_STOPPING_IMPROVEMENT_DELTA = trainingConfig[\"es_improv_delta\"]\n",
    "\n",
    "# === Mixup Setup ===\n",
    "mixup_fn = None\n",
    "if USE_MIXUP:\n",
    "    mixup_fn = Mixup(\n",
    "        mixup_alpha=MIXUP_ALPHA,\n",
    "        cutmix_alpha=CUTMIX_ALPHA,\n",
    "        label_smoothing=LABEL_SMOOTHENING_MIXUP,\n",
    "        num_classes=trainingConfig['num_subset_class'] if trainingConfig['apply_class_balance'] else dataset_config['num_classes']\n",
    "    )\n",
    "    train_criterion = nn.BCEWithLogitsLoss()\n",
    "    val_criterion = nn.CrossEntropyLoss(label_smoothing=0.0) #NO LABEL SMOOTHENING during validation\n",
    "else:        \n",
    "    mixup_fn = None\n",
    "    train_criterion = nn.CrossEntropyLoss(label_smoothing=LABEL_SMOOTHENING if USE_LABEL_SMOOTHENING else 0.0)\n",
    "    val_criterion =  nn.CrossEntropyLoss(label_smoothing=0.0) #NO LABEL SMOOTHENING during validation\n",
    "\n",
    "# optimizer & scheduler\n",
    "optimizer = optim.AdamW(model.parameters(), lr=LEARNING_RATE, weight_decay=WEIGHT_DECAY)\n",
    "scheduler_warmup_obj = None\n",
    "scheduler_warmup_enabled_flag = False\n",
    "if USE_SCHEDULER_WARMUP:\n",
    "    scheduler_warmup_enabled_flag = True\n",
    "    num_training_steps = EPOCHS * len(train_loader)\n",
    "    num_warmup_steps = WARMUP_STEPS * len(train_loader)\n",
    "\n",
    "    scheduler_warmup = get_cosine_schedule_with_warmup(\n",
    "        optimizer,\n",
    "        num_warmup_steps=num_warmup_steps,\n",
    "        num_training_steps=num_training_steps\n",
    "    )\n",
    "    scheduler_warmup_obj = scheduler_warmup\n",
    "\n",
    "# scaler\n",
    "scaler = GradScaler() "
   ]
  },
  {
   "cell_type": "code",
   "execution_count": 7,
   "id": "60c3ed5b",
   "metadata": {},
   "outputs": [
    {
     "name": "stdout",
     "output_type": "stream",
     "text": [
      "\n",
      "Epoch 1/200\n"
     ]
    },
    {
     "name": "stderr",
     "output_type": "stream",
     "text": [
      "Training: 100%|██████████| 10/10 [00:02<00:00,  4.28it/s, Loss=0.6859, Acc=9.83%]\n",
      "Validation: 100%|██████████| 4/4 [00:00<00:00,  7.44it/s, Loss=2.2988, Acc=12.12%]\n"
     ]
    },
    {
     "name": "stdout",
     "output_type": "stream",
     "text": [
      "Elapsed Time : 0h : 0m : 2s\n",
      "\n",
      "Epoch 2/200\n"
     ]
    },
    {
     "name": "stderr",
     "output_type": "stream",
     "text": [
      "Training: 100%|██████████| 10/10 [00:01<00:00,  5.27it/s, Loss=0.5726, Acc=10.00%]\n",
      "Validation: 100%|██████████| 4/4 [00:00<00:00, 12.34it/s, Loss=2.2690, Acc=15.15%]\n"
     ]
    },
    {
     "name": "stdout",
     "output_type": "stream",
     "text": [
      "Elapsed Time : 0h : 0m : 5s\n",
      "\n",
      "Epoch 3/200\n"
     ]
    },
    {
     "name": "stderr",
     "output_type": "stream",
     "text": [
      "Training: 100%|██████████| 10/10 [00:01<00:00,  5.31it/s, Loss=0.4598, Acc=10.17%]\n",
      "Validation: 100%|██████████| 4/4 [00:00<00:00, 11.97it/s, Loss=2.2636, Acc=13.13%]\n"
     ]
    },
    {
     "name": "stdout",
     "output_type": "stream",
     "text": [
      "Elapsed Time : 0h : 0m : 7s\n",
      "\n",
      "Epoch 4/200\n"
     ]
    },
    {
     "name": "stderr",
     "output_type": "stream",
     "text": [
      "Training: 100%|██████████| 10/10 [00:01<00:00,  5.57it/s, Loss=0.4035, Acc=12.00%]\n",
      "Validation: 100%|██████████| 4/4 [00:00<00:00, 12.55it/s, Loss=2.2577, Acc=20.71%]\n"
     ]
    },
    {
     "name": "stdout",
     "output_type": "stream",
     "text": [
      "Elapsed Time : 0h : 0m : 9s\n",
      "\n",
      "Epoch 5/200\n"
     ]
    },
    {
     "name": "stderr",
     "output_type": "stream",
     "text": [
      "Training: 100%|██████████| 10/10 [00:01<00:00,  5.61it/s, Loss=0.3797, Acc=14.67%]\n",
      "Validation: 100%|██████████| 4/4 [00:00<00:00, 12.18it/s, Loss=2.2429, Acc=21.72%]\n"
     ]
    },
    {
     "name": "stdout",
     "output_type": "stream",
     "text": [
      "Elapsed Time : 0h : 0m : 11s\n",
      "\n",
      "Epoch 6/200\n"
     ]
    },
    {
     "name": "stderr",
     "output_type": "stream",
     "text": [
      "Training: 100%|██████████| 10/10 [00:01<00:00,  5.08it/s, Loss=0.3673, Acc=16.33%]\n",
      "Validation: 100%|██████████| 4/4 [00:00<00:00, 12.05it/s, Loss=2.2291, Acc=20.71%]\n"
     ]
    },
    {
     "name": "stdout",
     "output_type": "stream",
     "text": [
      "Elapsed Time : 0h : 0m : 13s\n",
      "\n",
      "Epoch 7/200\n"
     ]
    },
    {
     "name": "stderr",
     "output_type": "stream",
     "text": [
      "Training: 100%|██████████| 10/10 [00:01<00:00,  5.55it/s, Loss=0.3583, Acc=18.83%]\n",
      "Validation: 100%|██████████| 4/4 [00:00<00:00, 12.19it/s, Loss=2.2191, Acc=23.23%]\n"
     ]
    },
    {
     "name": "stdout",
     "output_type": "stream",
     "text": [
      "Elapsed Time : 0h : 0m : 16s\n",
      "\n",
      "Epoch 8/200\n"
     ]
    },
    {
     "name": "stderr",
     "output_type": "stream",
     "text": [
      "Training: 100%|██████████| 10/10 [00:01<00:00,  5.12it/s, Loss=0.3501, Acc=19.17%]\n",
      "Validation: 100%|██████████| 4/4 [00:00<00:00, 11.70it/s, Loss=2.2010, Acc=22.22%]\n"
     ]
    },
    {
     "name": "stdout",
     "output_type": "stream",
     "text": [
      "Elapsed Time : 0h : 0m : 18s\n",
      "\n",
      "Epoch 9/200\n"
     ]
    },
    {
     "name": "stderr",
     "output_type": "stream",
     "text": [
      "Training: 100%|██████████| 10/10 [00:01<00:00,  5.32it/s, Loss=0.3430, Acc=19.83%]\n",
      "Validation: 100%|██████████| 4/4 [00:00<00:00, 11.93it/s, Loss=2.1966, Acc=22.22%]\n"
     ]
    },
    {
     "name": "stdout",
     "output_type": "stream",
     "text": [
      "Elapsed Time : 0h : 0m : 20s\n",
      "\n",
      "Epoch 10/200\n"
     ]
    },
    {
     "name": "stderr",
     "output_type": "stream",
     "text": [
      "Training: 100%|██████████| 10/10 [00:01<00:00,  5.03it/s, Loss=0.3368, Acc=19.00%]\n",
      "Validation: 100%|██████████| 4/4 [00:00<00:00, 11.90it/s, Loss=2.1830, Acc=26.77%]\n"
     ]
    },
    {
     "name": "stdout",
     "output_type": "stream",
     "text": [
      "Elapsed Time : 0h : 0m : 22s\n",
      "\n",
      "Epoch 11/200\n"
     ]
    },
    {
     "name": "stderr",
     "output_type": "stream",
     "text": [
      "Training: 100%|██████████| 10/10 [00:01<00:00,  5.47it/s, Loss=0.3318, Acc=21.00%]\n",
      "Validation: 100%|██████████| 4/4 [00:00<00:00, 12.09it/s, Loss=2.1716, Acc=26.26%]\n"
     ]
    },
    {
     "name": "stdout",
     "output_type": "stream",
     "text": [
      "Elapsed Time : 0h : 0m : 25s\n",
      "\n",
      "Epoch 12/200\n"
     ]
    },
    {
     "name": "stderr",
     "output_type": "stream",
     "text": [
      "Training: 100%|██████████| 10/10 [00:01<00:00,  5.15it/s, Loss=0.3276, Acc=24.50%]\n",
      "Validation: 100%|██████████| 4/4 [00:00<00:00, 11.97it/s, Loss=2.1642, Acc=26.26%]\n"
     ]
    },
    {
     "name": "stdout",
     "output_type": "stream",
     "text": [
      "Elapsed Time : 0h : 0m : 27s\n",
      "\n",
      "Epoch 13/200\n"
     ]
    },
    {
     "name": "stderr",
     "output_type": "stream",
     "text": [
      "Training: 100%|██████████| 10/10 [00:01<00:00,  5.57it/s, Loss=0.3245, Acc=20.00%]\n",
      "Validation: 100%|██████████| 4/4 [00:00<00:00, 12.49it/s, Loss=2.1471, Acc=28.28%]\n"
     ]
    },
    {
     "name": "stdout",
     "output_type": "stream",
     "text": [
      "Elapsed Time : 0h : 0m : 29s\n",
      "\n",
      "Epoch 14/200\n"
     ]
    },
    {
     "name": "stderr",
     "output_type": "stream",
     "text": [
      "Training: 100%|██████████| 10/10 [00:01<00:00,  5.46it/s, Loss=0.3216, Acc=22.50%]\n",
      "Validation: 100%|██████████| 4/4 [00:00<00:00, 11.86it/s, Loss=2.1305, Acc=25.76%]\n"
     ]
    },
    {
     "name": "stdout",
     "output_type": "stream",
     "text": [
      "Elapsed Time : 0h : 0m : 31s\n",
      "\n",
      "Epoch 15/200\n"
     ]
    },
    {
     "name": "stderr",
     "output_type": "stream",
     "text": [
      "Training: 100%|██████████| 10/10 [00:01<00:00,  5.16it/s, Loss=0.3200, Acc=23.83%]\n",
      "Validation: 100%|██████████| 4/4 [00:00<00:00, 11.86it/s, Loss=2.1003, Acc=28.28%]\n"
     ]
    },
    {
     "name": "stdout",
     "output_type": "stream",
     "text": [
      "Elapsed Time : 0h : 0m : 33s\n",
      "\n",
      "Epoch 16/200\n"
     ]
    },
    {
     "name": "stderr",
     "output_type": "stream",
     "text": [
      "Training: 100%|██████████| 10/10 [00:01<00:00,  5.48it/s, Loss=0.3186, Acc=21.00%]\n",
      "Validation: 100%|██████████| 4/4 [00:00<00:00, 12.27it/s, Loss=2.1091, Acc=24.75%]\n"
     ]
    },
    {
     "name": "stdout",
     "output_type": "stream",
     "text": [
      "Elapsed Time : 0h : 0m : 36s\n",
      "\n",
      "Epoch 17/200\n"
     ]
    },
    {
     "name": "stderr",
     "output_type": "stream",
     "text": [
      "Training: 100%|██████████| 10/10 [00:01<00:00,  5.06it/s, Loss=0.3158, Acc=24.33%]\n",
      "Validation: 100%|██████████| 4/4 [00:00<00:00, 11.89it/s, Loss=2.0729, Acc=24.75%]\n"
     ]
    },
    {
     "name": "stdout",
     "output_type": "stream",
     "text": [
      "Elapsed Time : 0h : 0m : 38s\n",
      "\n",
      "Epoch 18/200\n"
     ]
    },
    {
     "name": "stderr",
     "output_type": "stream",
     "text": [
      "Training: 100%|██████████| 10/10 [00:01<00:00,  5.54it/s, Loss=0.3148, Acc=24.83%]\n",
      "Validation: 100%|██████████| 4/4 [00:00<00:00, 11.67it/s, Loss=2.0574, Acc=27.27%]\n"
     ]
    },
    {
     "name": "stdout",
     "output_type": "stream",
     "text": [
      "Elapsed Time : 0h : 0m : 40s\n",
      "\n",
      "Epoch 19/200\n"
     ]
    },
    {
     "name": "stderr",
     "output_type": "stream",
     "text": [
      "Training: 100%|██████████| 10/10 [00:01<00:00,  5.51it/s, Loss=0.3169, Acc=22.00%]\n",
      "Validation: 100%|██████████| 4/4 [00:00<00:00, 11.98it/s, Loss=2.0818, Acc=25.76%]\n"
     ]
    },
    {
     "name": "stdout",
     "output_type": "stream",
     "text": [
      "Elapsed Time : 0h : 0m : 42s\n",
      "\n",
      "Epoch 20/200\n"
     ]
    },
    {
     "name": "stderr",
     "output_type": "stream",
     "text": [
      "Training: 100%|██████████| 10/10 [00:01<00:00,  5.52it/s, Loss=0.3143, Acc=26.00%]\n",
      "Validation: 100%|██████████| 4/4 [00:00<00:00, 12.21it/s, Loss=2.0772, Acc=26.26%]\n"
     ]
    },
    {
     "name": "stdout",
     "output_type": "stream",
     "text": [
      "Elapsed Time : 0h : 0m : 44s\n",
      "\n",
      "Epoch 21/200\n"
     ]
    },
    {
     "name": "stderr",
     "output_type": "stream",
     "text": [
      "Training: 100%|██████████| 10/10 [00:01<00:00,  5.21it/s, Loss=0.3134, Acc=26.00%]\n",
      "Validation: 100%|██████████| 4/4 [00:00<00:00, 11.96it/s, Loss=2.0655, Acc=23.74%]\n"
     ]
    },
    {
     "name": "stdout",
     "output_type": "stream",
     "text": [
      "Elapsed Time : 0h : 0m : 47s\n",
      "\n",
      "Epoch 22/200\n"
     ]
    },
    {
     "name": "stderr",
     "output_type": "stream",
     "text": [
      "Training: 100%|██████████| 10/10 [00:01<00:00,  5.01it/s, Loss=0.3169, Acc=24.83%]\n",
      "Validation: 100%|██████████| 4/4 [00:00<00:00, 12.16it/s, Loss=2.0468, Acc=24.75%]\n"
     ]
    },
    {
     "name": "stdout",
     "output_type": "stream",
     "text": [
      "Elapsed Time : 0h : 0m : 49s\n",
      "\n",
      "Epoch 23/200\n"
     ]
    },
    {
     "name": "stderr",
     "output_type": "stream",
     "text": [
      "Training: 100%|██████████| 10/10 [00:01<00:00,  5.21it/s, Loss=0.3141, Acc=26.33%]\n",
      "Validation: 100%|██████████| 4/4 [00:00<00:00, 12.10it/s, Loss=2.0702, Acc=24.24%]\n"
     ]
    },
    {
     "name": "stdout",
     "output_type": "stream",
     "text": [
      "Elapsed Time : 0h : 0m : 51s\n",
      "\n",
      "Epoch 24/200\n"
     ]
    },
    {
     "name": "stderr",
     "output_type": "stream",
     "text": [
      "Training: 100%|██████████| 10/10 [00:01<00:00,  5.34it/s, Loss=0.3095, Acc=26.50%]\n",
      "Validation: 100%|██████████| 4/4 [00:00<00:00, 11.83it/s, Loss=2.0132, Acc=25.76%]\n"
     ]
    },
    {
     "name": "stdout",
     "output_type": "stream",
     "text": [
      "Elapsed Time : 0h : 0m : 53s\n",
      "\n",
      "Epoch 25/200\n"
     ]
    },
    {
     "name": "stderr",
     "output_type": "stream",
     "text": [
      "Training: 100%|██████████| 10/10 [00:01<00:00,  5.52it/s, Loss=0.3127, Acc=25.83%]\n",
      "Validation: 100%|██████████| 4/4 [00:00<00:00, 11.83it/s, Loss=2.0442, Acc=28.28%]\n"
     ]
    },
    {
     "name": "stdout",
     "output_type": "stream",
     "text": [
      "Elapsed Time : 0h : 0m : 56s\n",
      "\n",
      "Epoch 26/200\n"
     ]
    },
    {
     "name": "stderr",
     "output_type": "stream",
     "text": [
      "Training: 100%|██████████| 10/10 [00:01<00:00,  5.48it/s, Loss=0.3143, Acc=26.00%]\n",
      "Validation: 100%|██████████| 4/4 [00:00<00:00, 12.06it/s, Loss=2.0214, Acc=28.28%]\n"
     ]
    },
    {
     "name": "stdout",
     "output_type": "stream",
     "text": [
      "Elapsed Time : 0h : 0m : 58s\n",
      "\n",
      "Epoch 27/200\n"
     ]
    },
    {
     "name": "stderr",
     "output_type": "stream",
     "text": [
      "Training: 100%|██████████| 10/10 [00:01<00:00,  5.51it/s, Loss=0.3101, Acc=27.00%]\n",
      "Validation: 100%|██████████| 4/4 [00:00<00:00, 11.77it/s, Loss=2.0658, Acc=26.77%]\n"
     ]
    },
    {
     "name": "stdout",
     "output_type": "stream",
     "text": [
      "Elapsed Time : 0h : 1m : 0s\n",
      "\n",
      "Epoch 28/200\n"
     ]
    },
    {
     "name": "stderr",
     "output_type": "stream",
     "text": [
      "Training: 100%|██████████| 10/10 [00:01<00:00,  5.12it/s, Loss=0.3112, Acc=24.50%]\n",
      "Validation: 100%|██████████| 4/4 [00:00<00:00, 11.43it/s, Loss=2.0116, Acc=26.26%]\n"
     ]
    },
    {
     "name": "stdout",
     "output_type": "stream",
     "text": [
      "Elapsed Time : 0h : 1m : 2s\n",
      "\n",
      "Epoch 29/200\n"
     ]
    },
    {
     "name": "stderr",
     "output_type": "stream",
     "text": [
      "Training: 100%|██████████| 10/10 [00:01<00:00,  5.48it/s, Loss=0.3085, Acc=26.83%]\n",
      "Validation: 100%|██████████| 4/4 [00:00<00:00, 11.88it/s, Loss=1.9880, Acc=24.75%]\n"
     ]
    },
    {
     "name": "stdout",
     "output_type": "stream",
     "text": [
      "Elapsed Time : 0h : 1m : 4s\n",
      "\n",
      "Epoch 30/200\n"
     ]
    },
    {
     "name": "stderr",
     "output_type": "stream",
     "text": [
      "Training: 100%|██████████| 10/10 [00:01<00:00,  5.43it/s, Loss=0.3153, Acc=22.33%]\n",
      "Validation: 100%|██████████| 4/4 [00:00<00:00, 11.67it/s, Loss=1.9899, Acc=28.28%]\n"
     ]
    },
    {
     "name": "stdout",
     "output_type": "stream",
     "text": [
      "Elapsed Time : 0h : 1m : 7s\n",
      "\n",
      "Epoch 31/200\n"
     ]
    },
    {
     "name": "stderr",
     "output_type": "stream",
     "text": [
      "Training: 100%|██████████| 10/10 [00:01<00:00,  5.20it/s, Loss=0.3104, Acc=25.17%]\n",
      "Validation: 100%|██████████| 4/4 [00:00<00:00, 11.98it/s, Loss=1.9768, Acc=26.77%]\n"
     ]
    },
    {
     "name": "stdout",
     "output_type": "stream",
     "text": [
      "Elapsed Time : 0h : 1m : 9s\n",
      "\n",
      "Epoch 32/200\n"
     ]
    },
    {
     "name": "stderr",
     "output_type": "stream",
     "text": [
      "Training: 100%|██████████| 10/10 [00:01<00:00,  5.12it/s, Loss=0.3043, Acc=31.00%]\n",
      "Validation: 100%|██████████| 4/4 [00:00<00:00, 11.99it/s, Loss=1.9726, Acc=27.78%]\n"
     ]
    },
    {
     "name": "stdout",
     "output_type": "stream",
     "text": [
      "Elapsed Time : 0h : 1m : 11s\n",
      "\n",
      "Epoch 33/200\n"
     ]
    },
    {
     "name": "stderr",
     "output_type": "stream",
     "text": [
      "Training: 100%|██████████| 10/10 [00:01<00:00,  5.51it/s, Loss=0.3065, Acc=27.33%]\n",
      "Validation: 100%|██████████| 4/4 [00:00<00:00, 12.12it/s, Loss=1.9642, Acc=25.25%]\n"
     ]
    },
    {
     "name": "stdout",
     "output_type": "stream",
     "text": [
      "Elapsed Time : 0h : 1m : 13s\n",
      "\n",
      "Epoch 34/200\n"
     ]
    },
    {
     "name": "stderr",
     "output_type": "stream",
     "text": [
      "Training: 100%|██████████| 10/10 [00:01<00:00,  5.37it/s, Loss=0.3062, Acc=30.50%]\n",
      "Validation: 100%|██████████| 4/4 [00:00<00:00, 11.78it/s, Loss=1.9475, Acc=26.77%]\n"
     ]
    },
    {
     "name": "stdout",
     "output_type": "stream",
     "text": [
      "Elapsed Time : 0h : 1m : 15s\n",
      "\n",
      "Epoch 35/200\n"
     ]
    },
    {
     "name": "stderr",
     "output_type": "stream",
     "text": [
      "Training: 100%|██████████| 10/10 [00:01<00:00,  5.18it/s, Loss=0.3090, Acc=27.33%]\n",
      "Validation: 100%|██████████| 4/4 [00:00<00:00, 12.15it/s, Loss=1.9634, Acc=26.77%]\n"
     ]
    },
    {
     "name": "stdout",
     "output_type": "stream",
     "text": [
      "Elapsed Time : 0h : 1m : 18s\n",
      "\n",
      "Epoch 36/200\n"
     ]
    },
    {
     "name": "stderr",
     "output_type": "stream",
     "text": [
      "Training: 100%|██████████| 10/10 [00:01<00:00,  5.54it/s, Loss=0.3128, Acc=29.50%]\n",
      "Validation: 100%|██████████| 4/4 [00:00<00:00, 11.85it/s, Loss=2.0092, Acc=29.80%]\n"
     ]
    },
    {
     "name": "stdout",
     "output_type": "stream",
     "text": [
      "Elapsed Time : 0h : 1m : 20s\n",
      "\n",
      "Epoch 37/200\n"
     ]
    },
    {
     "name": "stderr",
     "output_type": "stream",
     "text": [
      "Training: 100%|██████████| 10/10 [00:01<00:00,  5.45it/s, Loss=0.3085, Acc=26.50%]\n",
      "Validation: 100%|██████████| 4/4 [00:00<00:00, 12.01it/s, Loss=1.9384, Acc=26.26%]\n"
     ]
    },
    {
     "name": "stdout",
     "output_type": "stream",
     "text": [
      "Elapsed Time : 0h : 1m : 22s\n",
      "\n",
      "Epoch 38/200\n"
     ]
    },
    {
     "name": "stderr",
     "output_type": "stream",
     "text": [
      "Training: 100%|██████████| 10/10 [00:01<00:00,  5.14it/s, Loss=0.3047, Acc=29.83%]\n",
      "Validation: 100%|██████████| 4/4 [00:00<00:00, 11.57it/s, Loss=1.9230, Acc=27.78%]\n"
     ]
    },
    {
     "name": "stdout",
     "output_type": "stream",
     "text": [
      "Elapsed Time : 0h : 1m : 24s\n",
      "\n",
      "Epoch 39/200\n"
     ]
    },
    {
     "name": "stderr",
     "output_type": "stream",
     "text": [
      "Training: 100%|██████████| 10/10 [00:01<00:00,  5.49it/s, Loss=0.3051, Acc=30.17%]\n",
      "Validation: 100%|██████████| 4/4 [00:00<00:00, 11.72it/s, Loss=1.9285, Acc=30.81%]\n"
     ]
    },
    {
     "name": "stdout",
     "output_type": "stream",
     "text": [
      "Elapsed Time : 0h : 1m : 26s\n",
      "\n",
      "Epoch 40/200\n"
     ]
    },
    {
     "name": "stderr",
     "output_type": "stream",
     "text": [
      "Training: 100%|██████████| 10/10 [00:02<00:00,  4.94it/s, Loss=0.3019, Acc=32.00%]\n",
      "Validation: 100%|██████████| 4/4 [00:00<00:00, 11.88it/s, Loss=1.9570, Acc=26.26%]\n"
     ]
    },
    {
     "name": "stdout",
     "output_type": "stream",
     "text": [
      "Elapsed Time : 0h : 1m : 29s\n",
      "\n",
      "Epoch 41/200\n"
     ]
    },
    {
     "name": "stderr",
     "output_type": "stream",
     "text": [
      "Training: 100%|██████████| 10/10 [00:01<00:00,  5.55it/s, Loss=0.3082, Acc=28.00%]\n",
      "Validation: 100%|██████████| 4/4 [00:00<00:00, 11.98it/s, Loss=1.9571, Acc=28.28%]\n"
     ]
    },
    {
     "name": "stdout",
     "output_type": "stream",
     "text": [
      "Elapsed Time : 0h : 1m : 31s\n",
      "\n",
      "Epoch 42/200\n"
     ]
    },
    {
     "name": "stderr",
     "output_type": "stream",
     "text": [
      "Training: 100%|██████████| 10/10 [00:01<00:00,  5.09it/s, Loss=0.3037, Acc=29.33%]\n",
      "Validation: 100%|██████████| 4/4 [00:00<00:00, 11.83it/s, Loss=1.9091, Acc=29.80%]\n"
     ]
    },
    {
     "name": "stdout",
     "output_type": "stream",
     "text": [
      "Elapsed Time : 0h : 1m : 33s\n",
      "\n",
      "Epoch 43/200\n"
     ]
    },
    {
     "name": "stderr",
     "output_type": "stream",
     "text": [
      "Training: 100%|██████████| 10/10 [00:01<00:00,  5.14it/s, Loss=0.3070, Acc=29.33%]\n",
      "Validation: 100%|██████████| 4/4 [00:00<00:00, 11.67it/s, Loss=1.9953, Acc=26.77%]\n"
     ]
    },
    {
     "name": "stdout",
     "output_type": "stream",
     "text": [
      "Elapsed Time : 0h : 1m : 36s\n",
      "\n",
      "Epoch 44/200\n"
     ]
    },
    {
     "name": "stderr",
     "output_type": "stream",
     "text": [
      "Training: 100%|██████████| 10/10 [00:01<00:00,  5.21it/s, Loss=0.3104, Acc=25.17%]\n",
      "Validation: 100%|██████████| 4/4 [00:00<00:00, 11.79it/s, Loss=1.9484, Acc=29.80%]\n"
     ]
    },
    {
     "name": "stdout",
     "output_type": "stream",
     "text": [
      "Elapsed Time : 0h : 1m : 38s\n",
      "\n",
      "Epoch 45/200\n"
     ]
    },
    {
     "name": "stderr",
     "output_type": "stream",
     "text": [
      "Training: 100%|██████████| 10/10 [00:01<00:00,  5.49it/s, Loss=0.3025, Acc=33.00%]\n",
      "Validation: 100%|██████████| 4/4 [00:00<00:00, 11.80it/s, Loss=1.9229, Acc=26.77%]\n"
     ]
    },
    {
     "name": "stdout",
     "output_type": "stream",
     "text": [
      "Elapsed Time : 0h : 1m : 40s\n",
      "\n",
      "Epoch 46/200\n"
     ]
    },
    {
     "name": "stderr",
     "output_type": "stream",
     "text": [
      "Training: 100%|██████████| 10/10 [00:02<00:00,  4.97it/s, Loss=0.2968, Acc=33.67%]\n",
      "Validation: 100%|██████████| 4/4 [00:00<00:00, 12.19it/s, Loss=1.9137, Acc=31.31%]\n"
     ]
    },
    {
     "name": "stdout",
     "output_type": "stream",
     "text": [
      "Elapsed Time : 0h : 1m : 42s\n",
      "\n",
      "Epoch 47/200\n"
     ]
    },
    {
     "name": "stderr",
     "output_type": "stream",
     "text": [
      "Training: 100%|██████████| 10/10 [00:01<00:00,  5.16it/s, Loss=0.3039, Acc=28.17%]\n",
      "Validation: 100%|██████████| 4/4 [00:00<00:00, 12.14it/s, Loss=1.9201, Acc=30.30%]\n"
     ]
    },
    {
     "name": "stdout",
     "output_type": "stream",
     "text": [
      "Elapsed Time : 0h : 1m : 45s\n",
      "\n",
      "Epoch 48/200\n"
     ]
    },
    {
     "name": "stderr",
     "output_type": "stream",
     "text": [
      "Training: 100%|██████████| 10/10 [00:01<00:00,  5.27it/s, Loss=0.3020, Acc=32.67%]\n",
      "Validation: 100%|██████████| 4/4 [00:00<00:00, 11.60it/s, Loss=1.8835, Acc=34.34%]\n"
     ]
    },
    {
     "name": "stdout",
     "output_type": "stream",
     "text": [
      "Elapsed Time : 0h : 1m : 47s\n",
      "\n",
      "Epoch 49/200\n"
     ]
    },
    {
     "name": "stderr",
     "output_type": "stream",
     "text": [
      "Training: 100%|██████████| 10/10 [00:01<00:00,  5.49it/s, Loss=0.3018, Acc=32.83%]\n",
      "Validation: 100%|██████████| 4/4 [00:00<00:00, 12.34it/s, Loss=1.9254, Acc=29.29%]\n"
     ]
    },
    {
     "name": "stdout",
     "output_type": "stream",
     "text": [
      "Elapsed Time : 0h : 1m : 49s\n",
      "\n",
      "Epoch 50/200\n"
     ]
    },
    {
     "name": "stderr",
     "output_type": "stream",
     "text": [
      "Training: 100%|██████████| 10/10 [00:01<00:00,  5.50it/s, Loss=0.2955, Acc=35.17%]\n",
      "Validation: 100%|██████████| 4/4 [00:00<00:00, 11.93it/s, Loss=1.9005, Acc=32.83%]\n"
     ]
    },
    {
     "name": "stdout",
     "output_type": "stream",
     "text": [
      "Elapsed Time : 0h : 1m : 51s\n",
      "\n",
      "Epoch 51/200\n"
     ]
    },
    {
     "name": "stderr",
     "output_type": "stream",
     "text": [
      "Training: 100%|██████████| 10/10 [00:01<00:00,  5.47it/s, Loss=0.3026, Acc=33.67%]\n",
      "Validation: 100%|██████████| 4/4 [00:00<00:00, 11.79it/s, Loss=1.9140, Acc=31.82%]\n"
     ]
    },
    {
     "name": "stdout",
     "output_type": "stream",
     "text": [
      "Elapsed Time : 0h : 1m : 53s\n",
      "\n",
      "Epoch 52/200\n"
     ]
    },
    {
     "name": "stderr",
     "output_type": "stream",
     "text": [
      "Training: 100%|██████████| 10/10 [00:01<00:00,  5.57it/s, Loss=0.3021, Acc=31.50%]\n",
      "Validation: 100%|██████████| 4/4 [00:00<00:00, 12.12it/s, Loss=1.9058, Acc=31.31%]\n"
     ]
    },
    {
     "name": "stdout",
     "output_type": "stream",
     "text": [
      "Elapsed Time : 0h : 1m : 56s\n",
      "\n",
      "Epoch 53/200\n"
     ]
    },
    {
     "name": "stderr",
     "output_type": "stream",
     "text": [
      "Training: 100%|██████████| 10/10 [00:01<00:00,  5.02it/s, Loss=0.2956, Acc=36.33%]\n",
      "Validation: 100%|██████████| 4/4 [00:00<00:00, 11.80it/s, Loss=1.9059, Acc=32.32%]\n"
     ]
    },
    {
     "name": "stdout",
     "output_type": "stream",
     "text": [
      "Elapsed Time : 0h : 1m : 58s\n",
      "\n",
      "Epoch 54/200\n"
     ]
    },
    {
     "name": "stderr",
     "output_type": "stream",
     "text": [
      "Training: 100%|██████████| 10/10 [00:01<00:00,  5.39it/s, Loss=0.2999, Acc=32.50%]\n",
      "Validation: 100%|██████████| 4/4 [00:00<00:00, 11.95it/s, Loss=1.8741, Acc=27.78%]\n"
     ]
    },
    {
     "name": "stdout",
     "output_type": "stream",
     "text": [
      "Elapsed Time : 0h : 2m : 0s\n",
      "\n",
      "Epoch 55/200\n"
     ]
    },
    {
     "name": "stderr",
     "output_type": "stream",
     "text": [
      "Training: 100%|██████████| 10/10 [00:01<00:00,  5.17it/s, Loss=0.2958, Acc=36.00%]\n",
      "Validation: 100%|██████████| 4/4 [00:00<00:00, 11.54it/s, Loss=1.8573, Acc=34.34%]\n"
     ]
    },
    {
     "name": "stdout",
     "output_type": "stream",
     "text": [
      "Elapsed Time : 0h : 2m : 2s\n",
      "\n",
      "Epoch 56/200\n"
     ]
    },
    {
     "name": "stderr",
     "output_type": "stream",
     "text": [
      "Training: 100%|██████████| 10/10 [00:01<00:00,  5.17it/s, Loss=0.3017, Acc=33.67%]\n",
      "Validation: 100%|██████████| 4/4 [00:00<00:00, 11.85it/s, Loss=1.8969, Acc=31.82%]\n"
     ]
    },
    {
     "name": "stdout",
     "output_type": "stream",
     "text": [
      "Elapsed Time : 0h : 2m : 5s\n",
      "\n",
      "Epoch 57/200\n"
     ]
    },
    {
     "name": "stderr",
     "output_type": "stream",
     "text": [
      "Training: 100%|██████████| 10/10 [00:01<00:00,  5.10it/s, Loss=0.3009, Acc=32.50%]\n",
      "Validation: 100%|██████████| 4/4 [00:00<00:00, 11.84it/s, Loss=1.8796, Acc=31.31%]\n"
     ]
    },
    {
     "name": "stdout",
     "output_type": "stream",
     "text": [
      "Elapsed Time : 0h : 2m : 7s\n",
      "\n",
      "Epoch 58/200\n"
     ]
    },
    {
     "name": "stderr",
     "output_type": "stream",
     "text": [
      "Training: 100%|██████████| 10/10 [00:01<00:00,  5.39it/s, Loss=0.2955, Acc=36.33%]\n",
      "Validation: 100%|██████████| 4/4 [00:00<00:00, 12.13it/s, Loss=1.9011, Acc=25.25%]\n"
     ]
    },
    {
     "name": "stdout",
     "output_type": "stream",
     "text": [
      "Elapsed Time : 0h : 2m : 9s\n",
      "\n",
      "Epoch 59/200\n"
     ]
    },
    {
     "name": "stderr",
     "output_type": "stream",
     "text": [
      "Training: 100%|██████████| 10/10 [00:01<00:00,  5.49it/s, Loss=0.3009, Acc=33.17%]\n",
      "Validation: 100%|██████████| 4/4 [00:00<00:00, 11.81it/s, Loss=1.8655, Acc=33.84%]\n"
     ]
    },
    {
     "name": "stdout",
     "output_type": "stream",
     "text": [
      "Elapsed Time : 0h : 2m : 11s\n",
      "\n",
      "Epoch 60/200\n"
     ]
    },
    {
     "name": "stderr",
     "output_type": "stream",
     "text": [
      "Training: 100%|██████████| 10/10 [00:01<00:00,  5.11it/s, Loss=0.2944, Acc=35.83%]\n",
      "Validation: 100%|██████████| 4/4 [00:00<00:00, 12.10it/s, Loss=1.8482, Acc=31.82%]\n"
     ]
    },
    {
     "name": "stdout",
     "output_type": "stream",
     "text": [
      "Elapsed Time : 0h : 2m : 14s\n",
      "\n",
      "Epoch 61/200\n"
     ]
    },
    {
     "name": "stderr",
     "output_type": "stream",
     "text": [
      "Training: 100%|██████████| 10/10 [00:01<00:00,  5.10it/s, Loss=0.2993, Acc=33.00%]\n",
      "Validation: 100%|██████████| 4/4 [00:00<00:00, 12.23it/s, Loss=1.8913, Acc=35.35%]\n"
     ]
    },
    {
     "name": "stdout",
     "output_type": "stream",
     "text": [
      "Elapsed Time : 0h : 2m : 16s\n",
      "\n",
      "Epoch 62/200\n"
     ]
    },
    {
     "name": "stderr",
     "output_type": "stream",
     "text": [
      "Training: 100%|██████████| 10/10 [00:01<00:00,  5.47it/s, Loss=0.3004, Acc=33.33%]\n",
      "Validation: 100%|██████████| 4/4 [00:00<00:00, 12.06it/s, Loss=1.8904, Acc=31.82%]\n"
     ]
    },
    {
     "name": "stdout",
     "output_type": "stream",
     "text": [
      "Elapsed Time : 0h : 2m : 18s\n",
      "\n",
      "Epoch 63/200\n"
     ]
    },
    {
     "name": "stderr",
     "output_type": "stream",
     "text": [
      "Training: 100%|██████████| 10/10 [00:01<00:00,  5.37it/s, Loss=0.2924, Acc=35.83%]\n",
      "Validation: 100%|██████████| 4/4 [00:00<00:00, 11.89it/s, Loss=1.8403, Acc=31.82%]\n"
     ]
    },
    {
     "name": "stdout",
     "output_type": "stream",
     "text": [
      "Elapsed Time : 0h : 2m : 20s\n",
      "\n",
      "Epoch 64/200\n"
     ]
    },
    {
     "name": "stderr",
     "output_type": "stream",
     "text": [
      "Training: 100%|██████████| 10/10 [00:01<00:00,  5.39it/s, Loss=0.3028, Acc=33.00%]\n",
      "Validation: 100%|██████████| 4/4 [00:00<00:00, 11.68it/s, Loss=1.8604, Acc=32.32%]\n"
     ]
    },
    {
     "name": "stdout",
     "output_type": "stream",
     "text": [
      "Elapsed Time : 0h : 2m : 22s\n",
      "\n",
      "Epoch 65/200\n"
     ]
    },
    {
     "name": "stderr",
     "output_type": "stream",
     "text": [
      "Training: 100%|██████████| 10/10 [00:01<00:00,  5.19it/s, Loss=0.2935, Acc=35.17%]\n",
      "Validation: 100%|██████████| 4/4 [00:00<00:00, 12.05it/s, Loss=1.8920, Acc=32.83%]\n"
     ]
    },
    {
     "name": "stdout",
     "output_type": "stream",
     "text": [
      "Elapsed Time : 0h : 2m : 25s\n",
      "\n",
      "Epoch 66/200\n"
     ]
    },
    {
     "name": "stderr",
     "output_type": "stream",
     "text": [
      "Training: 100%|██████████| 10/10 [00:01<00:00,  5.18it/s, Loss=0.2922, Acc=36.17%]\n",
      "Validation: 100%|██████████| 4/4 [00:00<00:00, 12.06it/s, Loss=1.8279, Acc=31.82%]\n"
     ]
    },
    {
     "name": "stdout",
     "output_type": "stream",
     "text": [
      "Elapsed Time : 0h : 2m : 27s\n",
      "\n",
      "Epoch 67/200\n"
     ]
    },
    {
     "name": "stderr",
     "output_type": "stream",
     "text": [
      "Training: 100%|██████████| 10/10 [00:01<00:00,  5.08it/s, Loss=0.2997, Acc=34.00%]\n",
      "Validation: 100%|██████████| 4/4 [00:00<00:00, 11.78it/s, Loss=1.8287, Acc=32.32%]\n"
     ]
    },
    {
     "name": "stdout",
     "output_type": "stream",
     "text": [
      "Elapsed Time : 0h : 2m : 29s\n",
      "\n",
      "Epoch 68/200\n"
     ]
    },
    {
     "name": "stderr",
     "output_type": "stream",
     "text": [
      "Training: 100%|██████████| 10/10 [00:01<00:00,  5.19it/s, Loss=0.2890, Acc=37.00%]\n",
      "Validation: 100%|██████████| 4/4 [00:00<00:00, 12.09it/s, Loss=1.7937, Acc=36.87%]\n"
     ]
    },
    {
     "name": "stdout",
     "output_type": "stream",
     "text": [
      "Elapsed Time : 0h : 2m : 32s\n",
      "\n",
      "Epoch 69/200\n"
     ]
    },
    {
     "name": "stderr",
     "output_type": "stream",
     "text": [
      "Training: 100%|██████████| 10/10 [00:01<00:00,  5.22it/s, Loss=0.2924, Acc=39.00%]\n",
      "Validation: 100%|██████████| 4/4 [00:00<00:00, 11.51it/s, Loss=1.8507, Acc=32.83%]\n"
     ]
    },
    {
     "name": "stdout",
     "output_type": "stream",
     "text": [
      "Elapsed Time : 0h : 2m : 34s\n",
      "\n",
      "Epoch 70/200\n"
     ]
    },
    {
     "name": "stderr",
     "output_type": "stream",
     "text": [
      "Training: 100%|██████████| 10/10 [00:01<00:00,  5.56it/s, Loss=0.2965, Acc=35.83%]\n",
      "Validation: 100%|██████████| 4/4 [00:00<00:00, 12.03it/s, Loss=1.8258, Acc=31.31%]\n"
     ]
    },
    {
     "name": "stdout",
     "output_type": "stream",
     "text": [
      "Elapsed Time : 0h : 2m : 36s\n",
      "\n",
      "Epoch 71/200\n"
     ]
    },
    {
     "name": "stderr",
     "output_type": "stream",
     "text": [
      "Training: 100%|██████████| 10/10 [00:01<00:00,  5.15it/s, Loss=0.2977, Acc=34.00%]\n",
      "Validation: 100%|██████████| 4/4 [00:00<00:00, 12.08it/s, Loss=1.7988, Acc=33.84%]\n"
     ]
    },
    {
     "name": "stdout",
     "output_type": "stream",
     "text": [
      "Elapsed Time : 0h : 2m : 38s\n",
      "\n",
      "Epoch 72/200\n"
     ]
    },
    {
     "name": "stderr",
     "output_type": "stream",
     "text": [
      "Training: 100%|██████████| 10/10 [00:01<00:00,  5.52it/s, Loss=0.2953, Acc=37.83%]\n",
      "Validation: 100%|██████████| 4/4 [00:00<00:00, 11.97it/s, Loss=1.8449, Acc=34.34%]\n"
     ]
    },
    {
     "name": "stdout",
     "output_type": "stream",
     "text": [
      "Elapsed Time : 0h : 2m : 40s\n",
      "\n",
      "Epoch 73/200\n"
     ]
    },
    {
     "name": "stderr",
     "output_type": "stream",
     "text": [
      "Training: 100%|██████████| 10/10 [00:01<00:00,  5.48it/s, Loss=0.2897, Acc=39.00%]\n",
      "Validation: 100%|██████████| 4/4 [00:00<00:00, 12.08it/s, Loss=1.7732, Acc=40.40%]\n"
     ]
    },
    {
     "name": "stdout",
     "output_type": "stream",
     "text": [
      "Elapsed Time : 0h : 2m : 42s\n",
      "\n",
      "Epoch 74/200\n"
     ]
    },
    {
     "name": "stderr",
     "output_type": "stream",
     "text": [
      "Training: 100%|██████████| 10/10 [00:01<00:00,  5.55it/s, Loss=0.2947, Acc=35.67%]\n",
      "Validation: 100%|██████████| 4/4 [00:00<00:00, 11.98it/s, Loss=1.7788, Acc=37.37%]\n"
     ]
    },
    {
     "name": "stdout",
     "output_type": "stream",
     "text": [
      "Elapsed Time : 0h : 2m : 45s\n",
      "\n",
      "Epoch 75/200\n"
     ]
    },
    {
     "name": "stderr",
     "output_type": "stream",
     "text": [
      "Training: 100%|██████████| 10/10 [00:02<00:00,  5.00it/s, Loss=0.2866, Acc=37.67%]\n",
      "Validation: 100%|██████████| 4/4 [00:00<00:00, 11.84it/s, Loss=1.8453, Acc=34.34%]\n"
     ]
    },
    {
     "name": "stdout",
     "output_type": "stream",
     "text": [
      "Elapsed Time : 0h : 2m : 47s\n",
      "\n",
      "Epoch 76/200\n"
     ]
    },
    {
     "name": "stderr",
     "output_type": "stream",
     "text": [
      "Training: 100%|██████████| 10/10 [00:01<00:00,  5.11it/s, Loss=0.2876, Acc=43.67%]\n",
      "Validation: 100%|██████████| 4/4 [00:00<00:00, 11.79it/s, Loss=1.8098, Acc=36.87%]\n"
     ]
    },
    {
     "name": "stdout",
     "output_type": "stream",
     "text": [
      "Elapsed Time : 0h : 2m : 49s\n",
      "\n",
      "Epoch 77/200\n"
     ]
    },
    {
     "name": "stderr",
     "output_type": "stream",
     "text": [
      "Training: 100%|██████████| 10/10 [00:01<00:00,  5.48it/s, Loss=0.2913, Acc=36.33%]\n",
      "Validation: 100%|██████████| 4/4 [00:00<00:00, 11.79it/s, Loss=1.7828, Acc=34.34%]\n"
     ]
    },
    {
     "name": "stdout",
     "output_type": "stream",
     "text": [
      "Elapsed Time : 0h : 2m : 51s\n",
      "\n",
      "Epoch 78/200\n"
     ]
    },
    {
     "name": "stderr",
     "output_type": "stream",
     "text": [
      "Training: 100%|██████████| 10/10 [00:01<00:00,  5.11it/s, Loss=0.2894, Acc=38.17%]\n",
      "Validation: 100%|██████████| 4/4 [00:00<00:00, 11.73it/s, Loss=1.8119, Acc=36.87%]\n"
     ]
    },
    {
     "name": "stdout",
     "output_type": "stream",
     "text": [
      "Elapsed Time : 0h : 2m : 54s\n",
      "\n",
      "Epoch 79/200\n"
     ]
    },
    {
     "name": "stderr",
     "output_type": "stream",
     "text": [
      "Training: 100%|██████████| 10/10 [00:01<00:00,  5.37it/s, Loss=0.2957, Acc=32.17%]\n",
      "Validation: 100%|██████████| 4/4 [00:00<00:00, 11.89it/s, Loss=1.7464, Acc=38.89%]\n"
     ]
    },
    {
     "name": "stdout",
     "output_type": "stream",
     "text": [
      "Elapsed Time : 0h : 2m : 56s\n",
      "\n",
      "Epoch 80/200\n"
     ]
    },
    {
     "name": "stderr",
     "output_type": "stream",
     "text": [
      "Training: 100%|██████████| 10/10 [00:01<00:00,  5.44it/s, Loss=0.2861, Acc=40.33%]\n",
      "Validation: 100%|██████████| 4/4 [00:00<00:00, 11.84it/s, Loss=1.7937, Acc=33.33%]\n"
     ]
    },
    {
     "name": "stdout",
     "output_type": "stream",
     "text": [
      "Elapsed Time : 0h : 2m : 58s\n",
      "\n",
      "Epoch 81/200\n"
     ]
    },
    {
     "name": "stderr",
     "output_type": "stream",
     "text": [
      "Training: 100%|██████████| 10/10 [00:01<00:00,  5.53it/s, Loss=0.2880, Acc=37.83%]\n",
      "Validation: 100%|██████████| 4/4 [00:00<00:00, 11.81it/s, Loss=1.8191, Acc=36.87%]\n"
     ]
    },
    {
     "name": "stdout",
     "output_type": "stream",
     "text": [
      "Elapsed Time : 0h : 3m : 0s\n",
      "\n",
      "Epoch 82/200\n"
     ]
    },
    {
     "name": "stderr",
     "output_type": "stream",
     "text": [
      "Training: 100%|██████████| 10/10 [00:01<00:00,  5.27it/s, Loss=0.2856, Acc=44.33%]\n",
      "Validation: 100%|██████████| 4/4 [00:00<00:00, 11.74it/s, Loss=1.7384, Acc=35.35%]\n"
     ]
    },
    {
     "name": "stdout",
     "output_type": "stream",
     "text": [
      "Elapsed Time : 0h : 3m : 3s\n",
      "\n",
      "Epoch 83/200\n"
     ]
    },
    {
     "name": "stderr",
     "output_type": "stream",
     "text": [
      "Training: 100%|██████████| 10/10 [00:01<00:00,  5.20it/s, Loss=0.2854, Acc=41.50%]\n",
      "Validation: 100%|██████████| 4/4 [00:00<00:00, 11.63it/s, Loss=1.7333, Acc=38.38%]\n"
     ]
    },
    {
     "name": "stdout",
     "output_type": "stream",
     "text": [
      "Elapsed Time : 0h : 3m : 5s\n",
      "\n",
      "Epoch 84/200\n"
     ]
    },
    {
     "name": "stderr",
     "output_type": "stream",
     "text": [
      "Training: 100%|██████████| 10/10 [00:01<00:00,  5.25it/s, Loss=0.2854, Acc=41.00%]\n",
      "Validation: 100%|██████████| 4/4 [00:00<00:00, 11.67it/s, Loss=1.7801, Acc=34.85%]\n"
     ]
    },
    {
     "name": "stdout",
     "output_type": "stream",
     "text": [
      "Elapsed Time : 0h : 3m : 7s\n",
      "\n",
      "Epoch 85/200\n"
     ]
    },
    {
     "name": "stderr",
     "output_type": "stream",
     "text": [
      "Training: 100%|██████████| 10/10 [00:01<00:00,  5.19it/s, Loss=0.2874, Acc=41.83%]\n",
      "Validation: 100%|██████████| 4/4 [00:00<00:00, 11.03it/s, Loss=1.7606, Acc=35.35%]\n"
     ]
    },
    {
     "name": "stdout",
     "output_type": "stream",
     "text": [
      "Elapsed Time : 0h : 3m : 9s\n",
      "\n",
      "Epoch 86/200\n"
     ]
    },
    {
     "name": "stderr",
     "output_type": "stream",
     "text": [
      "Training: 100%|██████████| 10/10 [00:01<00:00,  5.52it/s, Loss=0.2944, Acc=38.33%]\n",
      "Validation: 100%|██████████| 4/4 [00:00<00:00, 12.22it/s, Loss=1.7541, Acc=37.88%]\n"
     ]
    },
    {
     "name": "stdout",
     "output_type": "stream",
     "text": [
      "Elapsed Time : 0h : 3m : 11s\n",
      "\n",
      "Epoch 87/200\n"
     ]
    },
    {
     "name": "stderr",
     "output_type": "stream",
     "text": [
      "Training: 100%|██████████| 10/10 [00:01<00:00,  5.13it/s, Loss=0.2901, Acc=39.50%]\n",
      "Validation: 100%|██████████| 4/4 [00:00<00:00, 11.79it/s, Loss=1.7978, Acc=36.36%]\n"
     ]
    },
    {
     "name": "stdout",
     "output_type": "stream",
     "text": [
      "Elapsed Time : 0h : 3m : 14s\n",
      "\n",
      "Epoch 88/200\n"
     ]
    },
    {
     "name": "stderr",
     "output_type": "stream",
     "text": [
      "Training: 100%|██████████| 10/10 [00:01<00:00,  5.02it/s, Loss=0.2921, Acc=37.83%]\n",
      "Validation: 100%|██████████| 4/4 [00:00<00:00, 11.47it/s, Loss=1.7619, Acc=33.84%]\n"
     ]
    },
    {
     "name": "stdout",
     "output_type": "stream",
     "text": [
      "Elapsed Time : 0h : 3m : 16s\n",
      "\n",
      "Epoch 89/200\n"
     ]
    },
    {
     "name": "stderr",
     "output_type": "stream",
     "text": [
      "Training: 100%|██████████| 10/10 [00:01<00:00,  5.13it/s, Loss=0.2887, Acc=43.83%]\n",
      "Validation: 100%|██████████| 4/4 [00:00<00:00, 10.90it/s, Loss=1.7818, Acc=35.86%]\n"
     ]
    },
    {
     "name": "stdout",
     "output_type": "stream",
     "text": [
      "Elapsed Time : 0h : 3m : 18s\n",
      "\n",
      "Epoch 90/200\n"
     ]
    },
    {
     "name": "stderr",
     "output_type": "stream",
     "text": [
      "Training: 100%|██████████| 10/10 [00:01<00:00,  5.35it/s, Loss=0.2898, Acc=39.17%]\n",
      "Validation: 100%|██████████| 4/4 [00:00<00:00, 11.26it/s, Loss=1.7342, Acc=38.38%]\n"
     ]
    },
    {
     "name": "stdout",
     "output_type": "stream",
     "text": [
      "Elapsed Time : 0h : 3m : 21s\n",
      "\n",
      "Epoch 91/200\n"
     ]
    },
    {
     "name": "stderr",
     "output_type": "stream",
     "text": [
      "Training: 100%|██████████| 10/10 [00:01<00:00,  5.15it/s, Loss=0.2863, Acc=42.50%]\n",
      "Validation: 100%|██████████| 4/4 [00:00<00:00, 11.69it/s, Loss=1.7335, Acc=39.39%]\n"
     ]
    },
    {
     "name": "stdout",
     "output_type": "stream",
     "text": [
      "Elapsed Time : 0h : 3m : 23s\n",
      "\n",
      "Epoch 92/200\n"
     ]
    },
    {
     "name": "stderr",
     "output_type": "stream",
     "text": [
      "Training: 100%|██████████| 10/10 [00:01<00:00,  5.43it/s, Loss=0.3022, Acc=37.33%]\n",
      "Validation: 100%|██████████| 4/4 [00:00<00:00, 12.23it/s, Loss=1.7686, Acc=36.36%]\n"
     ]
    },
    {
     "name": "stdout",
     "output_type": "stream",
     "text": [
      "Elapsed Time : 0h : 3m : 25s\n",
      "\n",
      "Epoch 93/200\n"
     ]
    },
    {
     "name": "stderr",
     "output_type": "stream",
     "text": [
      "Training: 100%|██████████| 10/10 [00:01<00:00,  5.49it/s, Loss=0.2791, Acc=43.67%]\n",
      "Validation: 100%|██████████| 4/4 [00:00<00:00, 11.77it/s, Loss=1.7163, Acc=38.89%]\n"
     ]
    },
    {
     "name": "stdout",
     "output_type": "stream",
     "text": [
      "Elapsed Time : 0h : 3m : 27s\n",
      "\n",
      "Epoch 94/200\n"
     ]
    },
    {
     "name": "stderr",
     "output_type": "stream",
     "text": [
      "Training: 100%|██████████| 10/10 [00:01<00:00,  5.16it/s, Loss=0.2695, Acc=48.33%]\n",
      "Validation: 100%|██████████| 4/4 [00:00<00:00, 11.66it/s, Loss=1.6619, Acc=40.40%]\n"
     ]
    },
    {
     "name": "stdout",
     "output_type": "stream",
     "text": [
      "Elapsed Time : 0h : 3m : 30s\n",
      "\n",
      "Epoch 95/200\n"
     ]
    },
    {
     "name": "stderr",
     "output_type": "stream",
     "text": [
      "Training: 100%|██████████| 10/10 [00:01<00:00,  5.12it/s, Loss=0.2661, Acc=51.17%]\n",
      "Validation: 100%|██████████| 4/4 [00:00<00:00, 11.91it/s, Loss=1.7506, Acc=36.87%]\n"
     ]
    },
    {
     "name": "stdout",
     "output_type": "stream",
     "text": [
      "Elapsed Time : 0h : 3m : 32s\n",
      "\n",
      "Epoch 96/200\n"
     ]
    },
    {
     "name": "stderr",
     "output_type": "stream",
     "text": [
      "Training: 100%|██████████| 10/10 [00:01<00:00,  5.34it/s, Loss=0.2864, Acc=42.17%]\n",
      "Validation: 100%|██████████| 4/4 [00:00<00:00, 11.79it/s, Loss=1.7384, Acc=39.39%]\n"
     ]
    },
    {
     "name": "stdout",
     "output_type": "stream",
     "text": [
      "Elapsed Time : 0h : 3m : 34s\n",
      "\n",
      "Epoch 97/200\n"
     ]
    },
    {
     "name": "stderr",
     "output_type": "stream",
     "text": [
      "Training: 100%|██████████| 10/10 [00:01<00:00,  5.37it/s, Loss=0.2857, Acc=44.33%]\n",
      "Validation: 100%|██████████| 4/4 [00:00<00:00, 11.79it/s, Loss=1.6732, Acc=38.38%]\n"
     ]
    },
    {
     "name": "stdout",
     "output_type": "stream",
     "text": [
      "Elapsed Time : 0h : 3m : 36s\n",
      "\n",
      "Epoch 98/200\n"
     ]
    },
    {
     "name": "stderr",
     "output_type": "stream",
     "text": [
      "Training: 100%|██████████| 10/10 [00:01<00:00,  5.19it/s, Loss=0.2826, Acc=45.50%]\n",
      "Validation: 100%|██████████| 4/4 [00:00<00:00, 11.72it/s, Loss=1.7205, Acc=37.37%]\n"
     ]
    },
    {
     "name": "stdout",
     "output_type": "stream",
     "text": [
      "Elapsed Time : 0h : 3m : 39s\n",
      "\n",
      "Epoch 99/200\n"
     ]
    },
    {
     "name": "stderr",
     "output_type": "stream",
     "text": [
      "Training: 100%|██████████| 10/10 [00:01<00:00,  5.21it/s, Loss=0.2758, Acc=46.67%]\n",
      "Validation: 100%|██████████| 4/4 [00:00<00:00, 11.44it/s, Loss=1.7926, Acc=33.84%]\n"
     ]
    },
    {
     "name": "stdout",
     "output_type": "stream",
     "text": [
      "Elapsed Time : 0h : 3m : 41s\n",
      "\n",
      "Epoch 100/200\n"
     ]
    },
    {
     "name": "stderr",
     "output_type": "stream",
     "text": [
      "Training: 100%|██████████| 10/10 [00:01<00:00,  5.16it/s, Loss=0.2854, Acc=45.17%]\n",
      "Validation: 100%|██████████| 4/4 [00:00<00:00, 11.62it/s, Loss=1.7043, Acc=40.40%]\n"
     ]
    },
    {
     "name": "stdout",
     "output_type": "stream",
     "text": [
      "Elapsed Time : 0h : 3m : 43s\n",
      "\n",
      "Epoch 101/200\n"
     ]
    },
    {
     "name": "stderr",
     "output_type": "stream",
     "text": [
      "Training: 100%|██████████| 10/10 [00:01<00:00,  5.38it/s, Loss=0.2779, Acc=45.00%]\n",
      "Validation: 100%|██████████| 4/4 [00:00<00:00, 11.78it/s, Loss=1.7730, Acc=34.34%]\n"
     ]
    },
    {
     "name": "stdout",
     "output_type": "stream",
     "text": [
      "Elapsed Time : 0h : 3m : 45s\n",
      "\n",
      "Epoch 102/200\n"
     ]
    },
    {
     "name": "stderr",
     "output_type": "stream",
     "text": [
      "Training: 100%|██████████| 10/10 [00:01<00:00,  5.53it/s, Loss=0.2831, Acc=43.50%]\n",
      "Validation: 100%|██████████| 4/4 [00:00<00:00, 11.97it/s, Loss=1.7126, Acc=38.89%]\n"
     ]
    },
    {
     "name": "stdout",
     "output_type": "stream",
     "text": [
      "Elapsed Time : 0h : 3m : 47s\n",
      "\n",
      "Epoch 103/200\n"
     ]
    },
    {
     "name": "stderr",
     "output_type": "stream",
     "text": [
      "Training: 100%|██████████| 10/10 [00:01<00:00,  5.33it/s, Loss=0.2760, Acc=46.83%]\n",
      "Validation: 100%|██████████| 4/4 [00:00<00:00, 11.86it/s, Loss=1.7214, Acc=38.89%]"
     ]
    },
    {
     "name": "stdout",
     "output_type": "stream",
     "text": [
      "\n",
      "Early stopping triggered. No improvement(delta=0.001) in val_acc for 30 consecutive epochs.\n",
      "\n",
      "====== Model Performance =======\n",
      "Train     Loss: 0.2897,    Accuracy: 39.00%\n",
      "Val(Best) Loss: 1.7732, Accuracy: 40.40%, Top5 Accuracy: 87.37%\n",
      "average time per epoch: 0\n",
      "\n",
      "\n",
      "-----------\n",
      "Best model Epoch : 73\n",
      "-----------\n",
      "\n",
      "\n",
      "Training completed in: 0h : 3m : 47s\n",
      "\n",
      "\n"
     ]
    },
    {
     "name": "stderr",
     "output_type": "stream",
     "text": [
      "\n"
     ]
    }
   ],
   "source": [
    "startTime = time.time()\n",
    "# monitors initialization\n",
    "best_val_acc = 0.0\n",
    "best_val_loss = np.inf\n",
    "\n",
    "for epoch in range(1,EPOCHS+1):\n",
    "    print(f\"\\nEpoch {epoch}/{EPOCHS}\")\n",
    "\n",
    "    train_loss, train_acc = train_one_epoch(model, train_loader, train_criterion, optimizer, scaler, device,\n",
    "                                            mixup_fn=mixup_fn,\n",
    "                                            scheduler_warmup_enabled=scheduler_warmup_enabled_flag,\n",
    "                                            scheduler_warmup=scheduler_warmup_obj)\n",
    "    val_loss, val_acc, val_acc_top5 = validate(model, val_loader, val_criterion, device)\n",
    "\n",
    "    # monitoring learning rate variation\n",
    "    current_lr = optimizer.param_groups[0]['lr']\n",
    "    \n",
    "    import copy\n",
    "    if val_acc > best_val_acc + EARLY_STOPPING_IMPROVEMENT_DELTA:\n",
    "        best_val_acc = val_acc\n",
    "        best_val_acc_top5 = val_acc_top5\n",
    "        best_val_loss = val_loss\n",
    "        corresponding_train_acc = train_acc\n",
    "        corresponding_train_loss = train_loss\n",
    "        best_epoch = epoch\n",
    "        best_model_state = copy.deepcopy(model.state_dict())\n",
    "        best_optimizer_state = copy.deepcopy(optimizer.state_dict())\n",
    "        if USE_SCHEDULER_WARMUP : best_scheduler_state = copy.deepcopy(scheduler_warmup_obj.state_dict())\n",
    "        else : best_scheduler_state = None\n",
    "        best_scaler_state = copy.deepcopy(scaler.state_dict())\n",
    "\n",
    "        epochs_without_improvement = 0\n",
    "    else:\n",
    "        epochs_without_improvement+=1\n",
    "\n",
    "    # Early stopping condition\n",
    "    if epochs_without_improvement >= EARLY_STOPPING_PATIENCE:\n",
    "        print(f\"\\nEarly stopping triggered. No improvement(delta={EARLY_STOPPING_IMPROVEMENT_DELTA}) in val_acc for {EARLY_STOPPING_PATIENCE} consecutive epochs.\")\n",
    "        break\n",
    "\n",
    "    endTime = time.time()\n",
    "    elapsedTime = endTime - startTime\n",
    "    hours = int(elapsedTime // 3600)\n",
    "    minutes = int((elapsedTime % 3600) // 60)\n",
    "    seconds = int(elapsedTime % 60)\n",
    "    print(f\"Elapsed Time : {hours}h : {minutes}m : {seconds}s\")\n",
    "\n",
    "# saving the best state\n",
    "print('\\n====== Model Performance =======')\n",
    "print(f\"Train     Loss: {corresponding_train_loss:.4f},    Accuracy: {corresponding_train_acc:.2f}%\")\n",
    "print(f\"Val(Best) Loss: {best_val_loss:.4f}, Accuracy: {best_val_acc:.2f}%, Top5 Accuracy: {best_val_acc_top5:.2f}%\")\n",
    "\n",
    "print(f\"average time per epoch: {int((elapsedTime/epoch)/60)}\")\n",
    "print('\\n\\n-----------')\n",
    "print(f\"Best model Epoch : {best_epoch}\")\n",
    "print('-----------\\n')\n",
    "print(f\"\\nTraining completed in: {hours}h : {minutes}m : {seconds}s\\n\\n\")\n"
   ]
  },
  {
   "cell_type": "code",
   "execution_count": null,
   "id": "3d23d582",
   "metadata": {},
   "outputs": [],
   "source": [
    "()"
   ]
  },
  {
   "cell_type": "code",
   "execution_count": null,
   "id": "34b83a22",
   "metadata": {},
   "outputs": [],
   "source": []
  },
  {
   "cell_type": "code",
   "execution_count": null,
   "id": "7cf07689",
   "metadata": {},
   "outputs": [],
   "source": []
  }
 ],
 "metadata": {
  "kernelspec": {
   "display_name": "_vit_rep_py310",
   "language": "python",
   "name": "python3"
  },
  "language_info": {
   "codemirror_mode": {
    "name": "ipython",
    "version": 3
   },
   "file_extension": ".py",
   "mimetype": "text/x-python",
   "name": "python",
   "nbconvert_exporter": "python",
   "pygments_lexer": "ipython3",
   "version": "3.10.12"
  }
 },
 "nbformat": 4,
 "nbformat_minor": 5
}
