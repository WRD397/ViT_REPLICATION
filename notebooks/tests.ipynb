{
 "cells": [
  {
   "cell_type": "code",
   "execution_count": 2,
   "id": "643b97b8",
   "metadata": {},
   "outputs": [],
   "source": [
    "import torch\n",
    "import torch.nn as nn\n",
    "import torchvision\n",
    "import torchvision.transforms as transforms\n",
    "import matplotlib.pyplot as plt\n",
    "import numpy as np\n"
   ]
  },
  {
   "cell_type": "markdown",
   "id": "daa8f6ac",
   "metadata": {},
   "source": [
    "### Data - CIFAR10\n",
    "have 10 classes - labelled 0 to 9"
   ]
  },
  {
   "cell_type": "code",
   "execution_count": 5,
   "id": "db5622d7",
   "metadata": {},
   "outputs": [],
   "source": [
    "# download the data which is already there in torchvision repo\n",
    "transform = transforms.Compose([transforms.ToTensor()])\n",
    "dataPath = f'/home/wd/Documents/work_stuff/ViT_REPLICATION/data/CIFAR10'\n",
    "dataset = torchvision.datasets.CIFAR10(root=dataPath, train=False, download=True,  \n",
    "                                        transform=transform)\n"
   ]
  },
  {
   "cell_type": "code",
   "execution_count": 6,
   "id": "30b1d5d6",
   "metadata": {},
   "outputs": [],
   "source": [
    "img, label = dataset[0]"
   ]
  },
  {
   "cell_type": "code",
   "execution_count": 7,
   "id": "89218a97",
   "metadata": {},
   "outputs": [
    {
     "data": {
      "text/plain": [
       "tensor([[[0.6196, 0.6235, 0.6471,  ..., 0.5373, 0.4941, 0.4549],\n",
       "         [0.5961, 0.5922, 0.6235,  ..., 0.5333, 0.4902, 0.4667],\n",
       "         [0.5922, 0.5922, 0.6196,  ..., 0.5451, 0.5098, 0.4706],\n",
       "         ...,\n",
       "         [0.2667, 0.1647, 0.1216,  ..., 0.1490, 0.0510, 0.1569],\n",
       "         [0.2392, 0.1922, 0.1373,  ..., 0.1020, 0.1137, 0.0784],\n",
       "         [0.2118, 0.2196, 0.1765,  ..., 0.0941, 0.1333, 0.0824]],\n",
       "\n",
       "        [[0.4392, 0.4353, 0.4549,  ..., 0.3725, 0.3569, 0.3333],\n",
       "         [0.4392, 0.4314, 0.4471,  ..., 0.3725, 0.3569, 0.3451],\n",
       "         [0.4314, 0.4275, 0.4353,  ..., 0.3843, 0.3725, 0.3490],\n",
       "         ...,\n",
       "         [0.4863, 0.3922, 0.3451,  ..., 0.3804, 0.2510, 0.3333],\n",
       "         [0.4549, 0.4000, 0.3333,  ..., 0.3216, 0.3216, 0.2510],\n",
       "         [0.4196, 0.4118, 0.3490,  ..., 0.3020, 0.3294, 0.2627]],\n",
       "\n",
       "        [[0.1922, 0.1843, 0.2000,  ..., 0.1412, 0.1412, 0.1294],\n",
       "         [0.2000, 0.1569, 0.1765,  ..., 0.1216, 0.1255, 0.1333],\n",
       "         [0.1843, 0.1294, 0.1412,  ..., 0.1333, 0.1333, 0.1294],\n",
       "         ...,\n",
       "         [0.6941, 0.5804, 0.5373,  ..., 0.5725, 0.4235, 0.4980],\n",
       "         [0.6588, 0.5804, 0.5176,  ..., 0.5098, 0.4941, 0.4196],\n",
       "         [0.6275, 0.5843, 0.5176,  ..., 0.4863, 0.5059, 0.4314]]])"
      ]
     },
     "execution_count": 7,
     "metadata": {},
     "output_type": "execute_result"
    }
   ],
   "source": [
    "img"
   ]
  },
  {
   "cell_type": "code",
   "execution_count": 8,
   "id": "856fd4da",
   "metadata": {},
   "outputs": [
    {
     "data": {
      "text/plain": [
       "torch.Size([3, 32, 32])"
      ]
     },
     "execution_count": 8,
     "metadata": {},
     "output_type": "execute_result"
    }
   ],
   "source": [
    "img.shape"
   ]
  },
  {
   "cell_type": "code",
   "execution_count": 9,
   "id": "0550b0c4",
   "metadata": {},
   "outputs": [
    {
     "data": {
      "text/plain": [
       "array([[[0.61960787, 0.62352943, 0.64705884, ..., 0.5372549 ,\n",
       "         0.49411765, 0.45490196],\n",
       "        [0.59607846, 0.5921569 , 0.62352943, ..., 0.53333336,\n",
       "         0.49019608, 0.46666667],\n",
       "        [0.5921569 , 0.5921569 , 0.61960787, ..., 0.54509807,\n",
       "         0.50980395, 0.47058824],\n",
       "        ...,\n",
       "        [0.26666668, 0.16470589, 0.12156863, ..., 0.14901961,\n",
       "         0.05098039, 0.15686275],\n",
       "        [0.23921569, 0.19215687, 0.13725491, ..., 0.10196079,\n",
       "         0.11372549, 0.07843138],\n",
       "        [0.21176471, 0.21960784, 0.1764706 , ..., 0.09411765,\n",
       "         0.13333334, 0.08235294]],\n",
       "\n",
       "       [[0.4392157 , 0.43529412, 0.45490196, ..., 0.37254903,\n",
       "         0.35686275, 0.33333334],\n",
       "        [0.4392157 , 0.43137255, 0.44705883, ..., 0.37254903,\n",
       "         0.35686275, 0.34509805],\n",
       "        [0.43137255, 0.42745098, 0.43529412, ..., 0.38431373,\n",
       "         0.37254903, 0.34901962],\n",
       "        ...,\n",
       "        [0.4862745 , 0.39215687, 0.34509805, ..., 0.38039216,\n",
       "         0.2509804 , 0.33333334],\n",
       "        [0.45490196, 0.4       , 0.33333334, ..., 0.32156864,\n",
       "         0.32156864, 0.2509804 ],\n",
       "        [0.41960785, 0.4117647 , 0.34901962, ..., 0.3019608 ,\n",
       "         0.32941177, 0.2627451 ]],\n",
       "\n",
       "       [[0.19215687, 0.18431373, 0.2       , ..., 0.14117648,\n",
       "         0.14117648, 0.12941177],\n",
       "        [0.2       , 0.15686275, 0.1764706 , ..., 0.12156863,\n",
       "         0.1254902 , 0.13333334],\n",
       "        [0.18431373, 0.12941177, 0.14117648, ..., 0.13333334,\n",
       "         0.13333334, 0.12941177],\n",
       "        ...,\n",
       "        [0.69411767, 0.5803922 , 0.5372549 , ..., 0.57254905,\n",
       "         0.42352942, 0.49803922],\n",
       "        [0.65882355, 0.5803922 , 0.5176471 , ..., 0.50980395,\n",
       "         0.49411765, 0.41960785],\n",
       "        [0.627451  , 0.58431375, 0.5176471 , ..., 0.4862745 ,\n",
       "         0.5058824 , 0.43137255]]], shape=(3, 32, 32), dtype=float32)"
      ]
     },
     "execution_count": 9,
     "metadata": {},
     "output_type": "execute_result"
    }
   ],
   "source": [
    "img.numpy()"
   ]
  },
  {
   "cell_type": "code",
   "execution_count": 35,
   "id": "87bf7937",
   "metadata": {},
   "outputs": [
    {
     "data": {
      "text/plain": [
       "(32, 32, 3)"
      ]
     },
     "execution_count": 35,
     "metadata": {},
     "output_type": "execute_result"
    }
   ],
   "source": [
    "np.transpose(img.numpy(), (1, 2, 0)).shape"
   ]
  },
  {
   "cell_type": "code",
   "execution_count": 28,
   "id": "fb1c1d82",
   "metadata": {},
   "outputs": [
    {
     "data": {
      "image/png": "[encoded data removed]",
      "text/plain": [
       "<Figure size 640x480 with 1 Axes>"
      ]
     },
     "metadata": {},
     "output_type": "display_data"
    }
   ],
   "source": [
    "plt.imshow(np.transpose(img.numpy(), (1, 2, 0))) # you need to pass the index : channel, height, width -> height, width, channel\n",
    "plt.title(f\"Class: {label}\")\n",
    "plt.axis('off')\n",
    "plt.show()"
   ]
  },
  {
   "cell_type": "code",
   "execution_count": 33,
   "id": "fb9ecff2",
   "metadata": {},
   "outputs": [
    {
     "data": {
      "image/png": "[encoded data removed]",
      "text/plain": [
       "<Figure size 640x480 with 1 Axes>"
      ]
     },
     "metadata": {},
     "output_type": "display_data"
    }
   ],
   "source": [
    "img, label = dataset[9999]\n",
    "plt.imshow(np.transpose(img.numpy(), (1, 2, 0))) # you need to pass the index : channel, height, width -> height, width, channel\n",
    "plt.title(f\"Class: {label}\")\n",
    "plt.axis('off')\n",
    "plt.show()"
   ]
  },
  {
   "cell_type": "code",
   "execution_count": null,
   "id": "bb525537",
   "metadata": {},
   "outputs": [],
   "source": []
  },
  {
   "cell_type": "markdown",
   "id": "920874f1",
   "metadata": {},
   "source": [
    "### Patch Embedding\n",
    "📦 What is the Goal?\n",
    "We want to:\n",
    "\n",
    "Break an image into non-overlapping patches (e.g., 4×4).\n",
    "\n",
    "Flatten each patch.\n",
    "\n",
    "Project each patch into a vector space (i.e., embedding).\n",
    "\n",
    "Output shape should be (Batch, Num_Patches, Embedding_Dim) — just like how Transformers expect."
   ]
  },
  {
   "cell_type": "code",
   "execution_count": null,
   "id": "a1d55d09",
   "metadata": {},
   "outputs": [],
   "source": [
    "class PatchEmbedding(nn.Module):\n",
    "    def __init__(self, in_channels=3, patch_size=4, emb_size=128, img_size=32):\n",
    "        super().__init__()\n",
    "        self.patch_size = patch_size\n",
    "        self.n_patches = (img_size // patch_size) ** 2\n",
    "        self.projection = nn.Conv2d(in_channels, emb_size, kernel_size=patch_size, stride=patch_size)\n",
    "\n",
    "    def forward(self, x):\n",
    "        x = self.projection(x)       # (B, emb_size, H/patch, W/patch)\n",
    "        print(f'after applying conv2D, {x.shape}')\n",
    "        x = x.flatten(2)             # (B, emb_size, N)\n",
    "        print(f'after flattening, {x.shape}')\n",
    "        x = x.transpose(1, 2)        # (B, N, emb_size)\n",
    "        print(f'after transpose {x.shape}')\n",
    "        return x\n"
   ]
  },
  {
   "cell_type": "code",
   "execution_count": 15,
   "id": "226fe69b",
   "metadata": {},
   "outputs": [
    {
     "data": {
      "text/plain": [
       "tensor([[[[0.6196, 0.6235, 0.6471,  ..., 0.5373, 0.4941, 0.4549],\n",
       "          [0.5961, 0.5922, 0.6235,  ..., 0.5333, 0.4902, 0.4667],\n",
       "          [0.5922, 0.5922, 0.6196,  ..., 0.5451, 0.5098, 0.4706],\n",
       "          ...,\n",
       "          [0.2667, 0.1647, 0.1216,  ..., 0.1490, 0.0510, 0.1569],\n",
       "          [0.2392, 0.1922, 0.1373,  ..., 0.1020, 0.1137, 0.0784],\n",
       "          [0.2118, 0.2196, 0.1765,  ..., 0.0941, 0.1333, 0.0824]],\n",
       "\n",
       "         [[0.4392, 0.4353, 0.4549,  ..., 0.3725, 0.3569, 0.3333],\n",
       "          [0.4392, 0.4314, 0.4471,  ..., 0.3725, 0.3569, 0.3451],\n",
       "          [0.4314, 0.4275, 0.4353,  ..., 0.3843, 0.3725, 0.3490],\n",
       "          ...,\n",
       "          [0.4863, 0.3922, 0.3451,  ..., 0.3804, 0.2510, 0.3333],\n",
       "          [0.4549, 0.4000, 0.3333,  ..., 0.3216, 0.3216, 0.2510],\n",
       "          [0.4196, 0.4118, 0.3490,  ..., 0.3020, 0.3294, 0.2627]],\n",
       "\n",
       "         [[0.1922, 0.1843, 0.2000,  ..., 0.1412, 0.1412, 0.1294],\n",
       "          [0.2000, 0.1569, 0.1765,  ..., 0.1216, 0.1255, 0.1333],\n",
       "          [0.1843, 0.1294, 0.1412,  ..., 0.1333, 0.1333, 0.1294],\n",
       "          ...,\n",
       "          [0.6941, 0.5804, 0.5373,  ..., 0.5725, 0.4235, 0.4980],\n",
       "          [0.6588, 0.5804, 0.5176,  ..., 0.5098, 0.4941, 0.4196],\n",
       "          [0.6275, 0.5843, 0.5176,  ..., 0.4863, 0.5059, 0.4314]]]])"
      ]
     },
     "execution_count": 15,
     "metadata": {},
     "output_type": "execute_result"
    }
   ],
   "source": [
    "img_tensor = img.unsqueeze(0)\n",
    "img_tensor"
   ]
  },
  {
   "cell_type": "code",
   "execution_count": 16,
   "id": "154349fc",
   "metadata": {},
   "outputs": [
    {
     "data": {
      "text/plain": [
       "torch.Size([1, 3, 32, 32])"
      ]
     },
     "execution_count": 16,
     "metadata": {},
     "output_type": "execute_result"
    }
   ],
   "source": [
    "img_tensor.shape"
   ]
  },
  {
   "cell_type": "code",
   "execution_count": 11,
   "id": "1bb6adce",
   "metadata": {},
   "outputs": [],
   "source": [
    "patch_size = 4\n",
    "n_patches = (32 // patch_size) ** 2\n",
    "projection = nn.Conv2d(3, 128, kernel_size=patch_size, stride=patch_size)\n"
   ]
  },
  {
   "cell_type": "code",
   "execution_count": 18,
   "id": "d22fd5b2",
   "metadata": {},
   "outputs": [
    {
     "data": {
      "text/plain": [
       "tensor([[[[0.6196, 0.6235, 0.6471,  ..., 0.5373, 0.4941, 0.4549],\n",
       "          [0.5961, 0.5922, 0.6235,  ..., 0.5333, 0.4902, 0.4667],\n",
       "          [0.5922, 0.5922, 0.6196,  ..., 0.5451, 0.5098, 0.4706],\n",
       "          ...,\n",
       "          [0.2667, 0.1647, 0.1216,  ..., 0.1490, 0.0510, 0.1569],\n",
       "          [0.2392, 0.1922, 0.1373,  ..., 0.1020, 0.1137, 0.0784],\n",
       "          [0.2118, 0.2196, 0.1765,  ..., 0.0941, 0.1333, 0.0824]],\n",
       "\n",
       "         [[0.4392, 0.4353, 0.4549,  ..., 0.3725, 0.3569, 0.3333],\n",
       "          [0.4392, 0.4314, 0.4471,  ..., 0.3725, 0.3569, 0.3451],\n",
       "          [0.4314, 0.4275, 0.4353,  ..., 0.3843, 0.3725, 0.3490],\n",
       "          ...,\n",
       "          [0.4863, 0.3922, 0.3451,  ..., 0.3804, 0.2510, 0.3333],\n",
       "          [0.4549, 0.4000, 0.3333,  ..., 0.3216, 0.3216, 0.2510],\n",
       "          [0.4196, 0.4118, 0.3490,  ..., 0.3020, 0.3294, 0.2627]],\n",
       "\n",
       "         [[0.1922, 0.1843, 0.2000,  ..., 0.1412, 0.1412, 0.1294],\n",
       "          [0.2000, 0.1569, 0.1765,  ..., 0.1216, 0.1255, 0.1333],\n",
       "          [0.1843, 0.1294, 0.1412,  ..., 0.1333, 0.1333, 0.1294],\n",
       "          ...,\n",
       "          [0.6941, 0.5804, 0.5373,  ..., 0.5725, 0.4235, 0.4980],\n",
       "          [0.6588, 0.5804, 0.5176,  ..., 0.5098, 0.4941, 0.4196],\n",
       "          [0.6275, 0.5843, 0.5176,  ..., 0.4863, 0.5059, 0.4314]]]])"
      ]
     },
     "execution_count": 18,
     "metadata": {},
     "output_type": "execute_result"
    }
   ],
   "source": [
    "img_tensor"
   ]
  },
  {
   "cell_type": "code",
   "execution_count": 19,
   "id": "2221a82c",
   "metadata": {},
   "outputs": [
    {
     "data": {
      "text/plain": [
       "tensor([[[[-0.4079, -0.4130, -0.4335,  ..., -0.3215, -0.3545, -0.3365],\n",
       "          [-0.3319, -0.4081, -0.3339,  ..., -0.4208, -0.3020, -0.3427],\n",
       "          [-0.4953, -0.4725, -0.4733,  ..., -0.4309, -0.3271, -0.3260],\n",
       "          ...,\n",
       "          [-0.4676, -0.6187, -0.5448,  ..., -0.2677, -0.3325, -0.3198],\n",
       "          [-0.3762, -0.5618, -0.3774,  ..., -0.3353, -0.3672, -0.3828],\n",
       "          [-0.3917, -0.3417, -0.2964,  ..., -0.3491, -0.3843, -0.3305]],\n",
       "\n",
       "         [[-0.1116, -0.1061, -0.0760,  ..., -0.1057, -0.0838, -0.0574],\n",
       "          [-0.1112, -0.1058, -0.2487,  ..., -0.0888, -0.0212, -0.0902],\n",
       "          [-0.0353, -0.1077, -0.1289,  ..., -0.1242, -0.0193, -0.0911],\n",
       "          ...,\n",
       "          [-0.2730,  0.0043, -0.0913,  ...,  0.0141, -0.0862, -0.0854],\n",
       "          [-0.1012, -0.3346,  0.0162,  ..., -0.0799, -0.1057, -0.1420],\n",
       "          [-0.0342, -0.1908, -0.0650,  ..., -0.0622, -0.1575, -0.0335]],\n",
       "\n",
       "         [[ 0.0770,  0.0862,  0.0968,  ...,  0.1094,  0.1006,  0.0647],\n",
       "          [ 0.1222,  0.0807,  0.0700,  ...,  0.2581,  0.1660,  0.0886],\n",
       "          [ 0.3811,  0.1413,  0.3652,  ...,  0.2508,  0.1526, -0.0058],\n",
       "          ...,\n",
       "          [ 0.3778,  0.4906,  0.4844,  ...,  0.1327,  0.2082,  0.2073],\n",
       "          [ 0.3153,  0.3439,  0.4706,  ...,  0.2609,  0.3080,  0.2910],\n",
       "          [ 0.3534,  0.2726,  0.2353,  ...,  0.2975,  0.2943,  0.3405]],\n",
       "\n",
       "         ...,\n",
       "\n",
       "         [[ 0.4687,  0.4970,  0.5315,  ...,  0.3968,  0.4006,  0.4401],\n",
       "          [ 0.4261,  0.4885,  0.5111,  ...,  0.4888,  0.3849,  0.3371],\n",
       "          [ 0.6608,  0.6229,  0.6755,  ...,  0.6259,  0.3311,  0.1605],\n",
       "          ...,\n",
       "          [ 0.5333,  0.6697,  0.8817,  ...,  0.2405,  0.3489,  0.4933],\n",
       "          [ 0.3250,  0.4874,  0.5825,  ...,  0.2857,  0.3417,  0.3327],\n",
       "          [ 0.3442,  0.3188,  0.2734,  ...,  0.3354,  0.3498,  0.3341]],\n",
       "\n",
       "         [[ 0.0698,  0.0756,  0.0462,  ...,  0.1274,  0.0888,  0.0819],\n",
       "          [ 0.1011,  0.0811,  0.0538,  ...,  0.1610,  0.1418,  0.1019],\n",
       "          [ 0.1606,  0.1068,  0.2987,  ...,  0.1834,  0.1245,  0.0373],\n",
       "          ...,\n",
       "          [ 0.1928,  0.2033,  0.3425,  ...,  0.1058,  0.1182,  0.1399],\n",
       "          [ 0.1455,  0.0744,  0.2610,  ...,  0.1403,  0.1493,  0.1650],\n",
       "          [ 0.2079,  0.1305,  0.1399,  ...,  0.1733,  0.1478,  0.1963]],\n",
       "\n",
       "         [[-0.3337, -0.3467, -0.3358,  ..., -0.2574, -0.2217, -0.3023],\n",
       "          [-0.2189, -0.3433, -0.3140,  ..., -0.3312, -0.2226, -0.2790],\n",
       "          [-0.3818, -0.3853, -0.3914,  ..., -0.4298, -0.2813, -0.2578],\n",
       "          ...,\n",
       "          [-0.3535, -0.5042, -0.4656,  ..., -0.2607, -0.2290, -0.2192],\n",
       "          [-0.2466, -0.3492, -0.1771,  ..., -0.2556, -0.2285, -0.3160],\n",
       "          [-0.2730, -0.2275, -0.1946,  ..., -0.2624, -0.3575, -0.2253]]]],\n",
       "       grad_fn=<ConvolutionBackward0>)"
      ]
     },
     "execution_count": 19,
     "metadata": {},
     "output_type": "execute_result"
    }
   ],
   "source": [
    "x = projection(img_tensor)\n",
    "x"
   ]
  },
  {
   "cell_type": "code",
   "execution_count": 20,
   "id": "4cb60eab",
   "metadata": {},
   "outputs": [
    {
     "data": {
      "text/plain": [
       "torch.Size([1, 128, 8, 8])"
      ]
     },
     "execution_count": 20,
     "metadata": {},
     "output_type": "execute_result"
    }
   ],
   "source": [
    "x.shape"
   ]
  },
  {
   "cell_type": "code",
   "execution_count": 22,
   "id": "15a2520e",
   "metadata": {},
   "outputs": [
    {
     "data": {
      "text/plain": [
       "torch.Size([1, 128, 64])"
      ]
     },
     "execution_count": 22,
     "metadata": {},
     "output_type": "execute_result"
    }
   ],
   "source": [
    "x.flatten(2).shape"
   ]
  },
  {
   "cell_type": "code",
   "execution_count": 24,
   "id": "88e1d60d",
   "metadata": {},
   "outputs": [
    {
     "data": {
      "text/plain": [
       "torch.Size([1, 64, 128])"
      ]
     },
     "execution_count": 24,
     "metadata": {},
     "output_type": "execute_result"
    }
   ],
   "source": [
    "x.flatten(2).transpose(1,2).shape"
   ]
  },
  {
   "cell_type": "code",
   "execution_count": null,
   "id": "5a665ed9",
   "metadata": {},
   "outputs": [],
   "source": [
    "img_tensor = img.unsqueeze(0)  # Add batch dimension: for one image, the shape will be (1, 3, 32, 32), we are faking the batch size just because the model demands a 4D tensor as the input\n",
    "\n",
    "patch_embed = PatchEmbedding(patch_size=4, emb_size=64)\n",
    "with torch.no_grad():\n",
    "    patch_vectors = patch_embed(img_tensor)\n",
    "\n",
    "print(\"Output shape:\", patch_vectors.shape)"
   ]
  },
  {
   "cell_type": "code",
   "execution_count": null,
   "id": "47b500a0",
   "metadata": {},
   "outputs": [],
   "source": []
  },
  {
   "cell_type": "code",
   "execution_count": null,
   "id": "a8e54b0c",
   "metadata": {},
   "outputs": [],
   "source": []
  }
 ],
 "metadata": {
  "kernelspec": {
   "display_name": "_vit_rep_py310",
   "language": "python",
   "name": "python3"
  },
  "language_info": {
   "codemirror_mode": {
    "name": "ipython",
    "version": 3
   },
   "file_extension": ".py",
   "mimetype": "text/x-python",
   "name": "python",
   "nbconvert_exporter": "python",
   "pygments_lexer": "ipython3",
   "version": "3.10.12"
  }
 },
 "nbformat": 4,
 "nbformat_minor": 5
}
