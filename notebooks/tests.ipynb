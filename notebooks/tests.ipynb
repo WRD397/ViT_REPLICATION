{
 "cells": [
  {
   "cell_type": "code",
   "execution_count": 30,
   "id": "643b97b8",
   "metadata": {},
   "outputs": [],
   "source": [
    "import torch\n",
    "import torch.nn as nn\n",
    "import torchvision\n",
    "import torchvision.transforms as transforms\n",
    "import matplotlib.pyplot as plt\n",
    "import numpy as np\n"
   ]
  },
  {
   "cell_type": "markdown",
   "id": "daa8f6ac",
   "metadata": {},
   "source": [
    "# Data - CIFAR10\n",
    "have 10 classes - labelled 0 to 9"
   ]
  },
  {
   "cell_type": "code",
   "execution_count": 31,
   "id": "db5622d7",
   "metadata": {},
   "outputs": [],
   "source": [
    "# download the data which is already there in torchvision repo\n",
    "transform = transforms.Compose([transforms.ToTensor()])\n",
    "dataPath = f'/home/wd/Documents/work_stuff/ViT_REPLICATION/data/CIFAR10'\n",
    "dataset = torchvision.datasets.CIFAR10(root=dataPath, train=False, download=True,  \n",
    "                                        transform=transform)\n"
   ]
  },
  {
   "cell_type": "code",
   "execution_count": 32,
   "id": "30b1d5d6",
   "metadata": {},
   "outputs": [],
   "source": [
    "img, label = dataset[0]"
   ]
  },
  {
   "cell_type": "code",
   "execution_count": 33,
   "id": "89218a97",
   "metadata": {},
   "outputs": [
    {
     "data": {
      "text/plain": [
       "tensor([[[0.6196, 0.6235, 0.6471,  ..., 0.5373, 0.4941, 0.4549],\n",
       "         [0.5961, 0.5922, 0.6235,  ..., 0.5333, 0.4902, 0.4667],\n",
       "         [0.5922, 0.5922, 0.6196,  ..., 0.5451, 0.5098, 0.4706],\n",
       "         ...,\n",
       "         [0.2667, 0.1647, 0.1216,  ..., 0.1490, 0.0510, 0.1569],\n",
       "         [0.2392, 0.1922, 0.1373,  ..., 0.1020, 0.1137, 0.0784],\n",
       "         [0.2118, 0.2196, 0.1765,  ..., 0.0941, 0.1333, 0.0824]],\n",
       "\n",
       "        [[0.4392, 0.4353, 0.4549,  ..., 0.3725, 0.3569, 0.3333],\n",
       "         [0.4392, 0.4314, 0.4471,  ..., 0.3725, 0.3569, 0.3451],\n",
       "         [0.4314, 0.4275, 0.4353,  ..., 0.3843, 0.3725, 0.3490],\n",
       "         ...,\n",
       "         [0.4863, 0.3922, 0.3451,  ..., 0.3804, 0.2510, 0.3333],\n",
       "         [0.4549, 0.4000, 0.3333,  ..., 0.3216, 0.3216, 0.2510],\n",
       "         [0.4196, 0.4118, 0.3490,  ..., 0.3020, 0.3294, 0.2627]],\n",
       "\n",
       "        [[0.1922, 0.1843, 0.2000,  ..., 0.1412, 0.1412, 0.1294],\n",
       "         [0.2000, 0.1569, 0.1765,  ..., 0.1216, 0.1255, 0.1333],\n",
       "         [0.1843, 0.1294, 0.1412,  ..., 0.1333, 0.1333, 0.1294],\n",
       "         ...,\n",
       "         [0.6941, 0.5804, 0.5373,  ..., 0.5725, 0.4235, 0.4980],\n",
       "         [0.6588, 0.5804, 0.5176,  ..., 0.5098, 0.4941, 0.4196],\n",
       "         [0.6275, 0.5843, 0.5176,  ..., 0.4863, 0.5059, 0.4314]]])"
      ]
     },
     "execution_count": 33,
     "metadata": {},
     "output_type": "execute_result"
    }
   ],
   "source": [
    "img"
   ]
  },
  {
   "cell_type": "code",
   "execution_count": 34,
   "id": "856fd4da",
   "metadata": {},
   "outputs": [
    {
     "data": {
      "text/plain": [
       "torch.Size([3, 32, 32])"
      ]
     },
     "execution_count": 34,
     "metadata": {},
     "output_type": "execute_result"
    }
   ],
   "source": [
    "img.shape"
   ]
  },
  {
   "cell_type": "markdown",
   "id": "5f8752e9",
   "metadata": {},
   "source": [
    "\n",
    "### img.numpy()  vs  np.array(img)\n",
    "For example, the tensor is -> img.shape = torch.Size([3, 32, 32])\n",
    "\n",
    "#### img.numpy() :::: What it does:\n",
    "\n",
    "Converts the PyTorch Tensor to a NumPy array.\n",
    "\n",
    "Shares the same memory (zero-copy).\n",
    "\n",
    "Only works if the tensor is on CPU.\n",
    "\n",
    "✅ Fast and efficient.\n",
    "⚠️ Will raise an error if the tensor is on GPU.\n",
    "\n",
    "img = img.cpu()  # Must be on CPU\n",
    "img_np = img.numpy()\n",
    "\n",
    "#### np.array(img) :::: What it does:\n",
    "What it does:\n",
    "\n",
    "Uses NumPy to create an array from the tensor.\n",
    "\n",
    "Copies the data — does not share memory.\n",
    "\n",
    "Slower and not recommended for tensors.\n",
    "\n",
    "Works even if the tensor is on GPU (but will be wrong!).\n",
    "\n",
    "⚠️ Inefficient.\n",
    "⚠️ May silently produce unexpected results or copy issues.\n",
    "\n",
    "\n",
    "| Method          | Converts To NumPy | Shares Memory? | Fast? | GPU Compatible?      | Recommended? |\n",
    "| --------------- | ----------------- | -------------- | ----- | -------------------- | ------------ |\n",
    "| `img.numpy()`   | ✅                 | ✅ Yes          | ✅ Yes | ❌ No (CPU only)      | ✅ Yes        |\n",
    "| `np.array(img)` | ✅                 | ❌ No (copy)    | ❌ No  | ⚠️ Can silently fail | ❌ No         |\n"
   ]
  },
  {
   "cell_type": "code",
   "execution_count": 35,
   "id": "0550b0c4",
   "metadata": {},
   "outputs": [
    {
     "data": {
      "text/plain": [
       "array([[[0.61960787, 0.62352943, 0.64705884, ..., 0.5372549 ,\n",
       "         0.49411765, 0.45490196],\n",
       "        [0.59607846, 0.5921569 , 0.62352943, ..., 0.53333336,\n",
       "         0.49019608, 0.46666667],\n",
       "        [0.5921569 , 0.5921569 , 0.61960787, ..., 0.54509807,\n",
       "         0.50980395, 0.47058824],\n",
       "        ...,\n",
       "        [0.26666668, 0.16470589, 0.12156863, ..., 0.14901961,\n",
       "         0.05098039, 0.15686275],\n",
       "        [0.23921569, 0.19215687, 0.13725491, ..., 0.10196079,\n",
       "         0.11372549, 0.07843138],\n",
       "        [0.21176471, 0.21960784, 0.1764706 , ..., 0.09411765,\n",
       "         0.13333334, 0.08235294]],\n",
       "\n",
       "       [[0.4392157 , 0.43529412, 0.45490196, ..., 0.37254903,\n",
       "         0.35686275, 0.33333334],\n",
       "        [0.4392157 , 0.43137255, 0.44705883, ..., 0.37254903,\n",
       "         0.35686275, 0.34509805],\n",
       "        [0.43137255, 0.42745098, 0.43529412, ..., 0.38431373,\n",
       "         0.37254903, 0.34901962],\n",
       "        ...,\n",
       "        [0.4862745 , 0.39215687, 0.34509805, ..., 0.38039216,\n",
       "         0.2509804 , 0.33333334],\n",
       "        [0.45490196, 0.4       , 0.33333334, ..., 0.32156864,\n",
       "         0.32156864, 0.2509804 ],\n",
       "        [0.41960785, 0.4117647 , 0.34901962, ..., 0.3019608 ,\n",
       "         0.32941177, 0.2627451 ]],\n",
       "\n",
       "       [[0.19215687, 0.18431373, 0.2       , ..., 0.14117648,\n",
       "         0.14117648, 0.12941177],\n",
       "        [0.2       , 0.15686275, 0.1764706 , ..., 0.12156863,\n",
       "         0.1254902 , 0.13333334],\n",
       "        [0.18431373, 0.12941177, 0.14117648, ..., 0.13333334,\n",
       "         0.13333334, 0.12941177],\n",
       "        ...,\n",
       "        [0.69411767, 0.5803922 , 0.5372549 , ..., 0.57254905,\n",
       "         0.42352942, 0.49803922],\n",
       "        [0.65882355, 0.5803922 , 0.5176471 , ..., 0.50980395,\n",
       "         0.49411765, 0.41960785],\n",
       "        [0.627451  , 0.58431375, 0.5176471 , ..., 0.4862745 ,\n",
       "         0.5058824 , 0.43137255]]], shape=(3, 32, 32), dtype=float32)"
      ]
     },
     "execution_count": 35,
     "metadata": {},
     "output_type": "execute_result"
    }
   ],
   "source": [
    "img.numpy()"
   ]
  },
  {
   "cell_type": "code",
   "execution_count": 36,
   "id": "87bf7937",
   "metadata": {},
   "outputs": [
    {
     "data": {
      "text/plain": [
       "(32, 32, 3)"
      ]
     },
     "execution_count": 36,
     "metadata": {},
     "output_type": "execute_result"
    }
   ],
   "source": [
    "np.transpose(img.numpy(), (1, 2, 0)).shape"
   ]
  },
  {
   "cell_type": "code",
   "execution_count": 37,
   "id": "fb1c1d82",
   "metadata": {},
   "outputs": [
    {
     "data": {
      "image/png": "[encoded data removed]",
      "text/plain": [
       "<Figure size 640x480 with 1 Axes>"
      ]
     },
     "metadata": {},
     "output_type": "display_data"
    }
   ],
   "source": [
    "plt.imshow(np.transpose(img.numpy(), (1, 2, 0))) # you need to pass the index : channel, height, width -> height, width, channel\n",
    "plt.title(f\"Class: {label}\")\n",
    "plt.axis('off')\n",
    "plt.show()"
   ]
  },
  {
   "cell_type": "code",
   "execution_count": 38,
   "id": "fb9ecff2",
   "metadata": {},
   "outputs": [
    {
     "data": {
      "image/png": "[encoded data removed]",
      "text/plain": [
       "<Figure size 640x480 with 1 Axes>"
      ]
     },
     "metadata": {},
     "output_type": "display_data"
    }
   ],
   "source": [
    "img, label = dataset[9999]\n",
    "plt.imshow(np.transpose(img.numpy(), (1, 2, 0))) # you need to pass the index : channel, height, width -> height, width, channel\n",
    "plt.title(f\"Class: {label}\")\n",
    "plt.axis('off')\n",
    "plt.show()"
   ]
  },
  {
   "cell_type": "code",
   "execution_count": null,
   "id": "bb525537",
   "metadata": {},
   "outputs": [],
   "source": []
  },
  {
   "cell_type": "markdown",
   "id": "920874f1",
   "metadata": {},
   "source": [
    "# Patch Embedding\n",
    "📦 What is the Goal?\n",
    "We want to:\n",
    "\n",
    "Break an image into non-overlapping patches (e.g., 4×4).\n",
    "\n",
    "Flatten each patch.\n",
    "\n",
    "Project each patch into a vector space (i.e., embedding).\n",
    "\n",
    "Output shape should be (Batch, Num_Patches, Embedding_Dim) — just like how Transformers expect."
   ]
  },
  {
   "cell_type": "markdown",
   "id": "7148eeb7",
   "metadata": {},
   "source": [
    "\n",
    "### whats the significance of conv2d here ?\n",
    "\n",
    "🎯 What are we trying to do?\n",
    "We want to convert an image (e.g., 32×32) into a sequence of patch vectors, where each patch is represented by a fixed-size vector (like 64-dim, 128-dim etc). This is necessary because:\n",
    "\n",
    "Transformers expect input as a sequence of vectors: (batch, num_patches, embedding_dim)\n",
    "\n",
    "So we need some way to go from image pixels → patch vectors.\n",
    "\n",
    "🧠 This single Conv2d call:\n",
    "\n",
    "Extracts non-overlapping patches\n",
    "\n",
    "Flattens each patch internally\n",
    "\n",
    "Applies a learnable linear transformation to each patch\n",
    "\n",
    "So it acts like a smart patch extractor + embedder in one step.\n",
    "\n",
    "🔍 Why Conv2D works perfectly here\n",
    "kernel_size = patch_size: it looks at one patch at a time.\n",
    "\n",
    "stride = patch_size: it moves in steps of patch size (no overlap).\n",
    "\n",
    "out_channels = emb_size: it maps each patch to an emb_size-d vector.\n",
    "\n",
    "This is exactly what we want:\n",
    "\n",
    "Divide the image into fixed-size patches, and turn each patch into a vector.\n",
    "\n",
    "### 🧪 Without Conv2D — what would you do?\n",
    "\n",
    "If you didn’t use Conv2d, you’d need to:\n",
    "\n",
    "Slice the image manually into 4×4 patches (nested loops).\n",
    "\n",
    "Flatten each patch into a vector.\n",
    "\n",
    "Apply a learnable linear projection (nn.Linear) to each one.\n",
    "\n",
    "That’s a LOT of code and slow on GPU.\n",
    "\n",
    "✅ Conv2d gives you all that in one fast, GPU-optimized layer.\n",
    "\n",
    "🔁 Think of Conv2D here not as a CNN, but as a fast way to do:\n",
    "Patch → Vector projection for all patches at once.\n",
    "\n"
   ]
  },
  {
   "cell_type": "code",
   "execution_count": 39,
   "id": "a1d55d09",
   "metadata": {},
   "outputs": [],
   "source": [
    "class PatchEmbedding(nn.Module):\n",
    "    def __init__(self, in_channels=3, patch_size=4, emb_size=128, img_size=32):\n",
    "        super().__init__()\n",
    "        self.patch_size = patch_size\n",
    "        self.n_patches = (img_size // patch_size) ** 2\n",
    "        self.projection = nn.Conv2d(in_channels, emb_size, kernel_size=patch_size, stride=patch_size)\n",
    "\n",
    "    def forward(self, x):\n",
    "        x = self.projection(x)       # (B, emb_size, H/patch, W/patch)\n",
    "        print(f'after applying conv2D, {x.shape}')\n",
    "        x = x.flatten(2)             # (B, emb_size, N)\n",
    "        print(f'after flattening, {x.shape}')\n",
    "        x = x.transpose(1, 2)        # (B, N, emb_size)\n",
    "        print(f'after transpose {x.shape}')\n",
    "        return x\n"
   ]
  },
  {
   "cell_type": "code",
   "execution_count": 40,
   "id": "226fe69b",
   "metadata": {},
   "outputs": [
    {
     "data": {
      "text/plain": [
       "tensor([[[[0.2863, 0.3843, 0.3882,  ..., 0.5294, 0.5294, 0.7961],\n",
       "          [0.2706, 0.3294, 0.2667,  ..., 0.3333, 0.2784, 0.4706],\n",
       "          [0.2706, 0.3529, 0.2431,  ..., 0.2902, 0.2078, 0.2431],\n",
       "          ...,\n",
       "          [0.4824, 0.5176, 0.5059,  ..., 0.4235, 0.2431, 0.1059],\n",
       "          [0.4510, 0.4824, 0.5059,  ..., 0.4510, 0.2588, 0.1059],\n",
       "          [0.4549, 0.4745, 0.5059,  ..., 0.4549, 0.2667, 0.1059]],\n",
       "\n",
       "         [[0.3059, 0.4039, 0.4157,  ..., 0.5882, 0.5843, 0.8431],\n",
       "          [0.2863, 0.3490, 0.2941,  ..., 0.3725, 0.3216, 0.5216],\n",
       "          [0.2863, 0.3725, 0.2784,  ..., 0.3176, 0.2431, 0.2902],\n",
       "          ...,\n",
       "          [0.5020, 0.5176, 0.5020,  ..., 0.4196, 0.2353, 0.1059],\n",
       "          [0.4745, 0.4863, 0.4941,  ..., 0.4549, 0.2549, 0.1059],\n",
       "          [0.4706, 0.4784, 0.5020,  ..., 0.4510, 0.2549, 0.1020]],\n",
       "\n",
       "         [[0.2941, 0.4431, 0.4471,  ..., 0.5961, 0.6039, 0.8745],\n",
       "          [0.2745, 0.3804, 0.3176,  ..., 0.3490, 0.3137, 0.5294],\n",
       "          [0.2745, 0.3922, 0.2902,  ..., 0.2745, 0.2118, 0.2706],\n",
       "          ...,\n",
       "          [0.3765, 0.4000, 0.3922,  ..., 0.3451, 0.2157, 0.1098],\n",
       "          [0.3569, 0.3725, 0.3882,  ..., 0.3686, 0.2314, 0.1059],\n",
       "          [0.3529, 0.3686, 0.3961,  ..., 0.3686, 0.2275, 0.1020]]]])"
      ]
     },
     "execution_count": 40,
     "metadata": {},
     "output_type": "execute_result"
    }
   ],
   "source": [
    "## UNSQUEEZE : Adds a dimension of size 1 at the specified dim (axis).\n",
    "img_tensor = img.unsqueeze(0)\n",
    "img_tensor"
   ]
  },
  {
   "cell_type": "code",
   "execution_count": 41,
   "id": "154349fc",
   "metadata": {},
   "outputs": [
    {
     "data": {
      "text/plain": [
       "torch.Size([1, 3, 32, 32])"
      ]
     },
     "execution_count": 41,
     "metadata": {},
     "output_type": "execute_result"
    }
   ],
   "source": [
    "img_tensor.shape"
   ]
  },
  {
   "cell_type": "code",
   "execution_count": 42,
   "id": "1bb6adce",
   "metadata": {},
   "outputs": [],
   "source": [
    "patch_size = 4\n",
    "n_patches = (32 // patch_size) ** 2\n",
    "projection = nn.Conv2d(3, 128, kernel_size=patch_size, stride=patch_size)\n"
   ]
  },
  {
   "cell_type": "code",
   "execution_count": 43,
   "id": "d22fd5b2",
   "metadata": {},
   "outputs": [
    {
     "data": {
      "text/plain": [
       "tensor([[[[0.2863, 0.3843, 0.3882,  ..., 0.5294, 0.5294, 0.7961],\n",
       "          [0.2706, 0.3294, 0.2667,  ..., 0.3333, 0.2784, 0.4706],\n",
       "          [0.2706, 0.3529, 0.2431,  ..., 0.2902, 0.2078, 0.2431],\n",
       "          ...,\n",
       "          [0.4824, 0.5176, 0.5059,  ..., 0.4235, 0.2431, 0.1059],\n",
       "          [0.4510, 0.4824, 0.5059,  ..., 0.4510, 0.2588, 0.1059],\n",
       "          [0.4549, 0.4745, 0.5059,  ..., 0.4549, 0.2667, 0.1059]],\n",
       "\n",
       "         [[0.3059, 0.4039, 0.4157,  ..., 0.5882, 0.5843, 0.8431],\n",
       "          [0.2863, 0.3490, 0.2941,  ..., 0.3725, 0.3216, 0.5216],\n",
       "          [0.2863, 0.3725, 0.2784,  ..., 0.3176, 0.2431, 0.2902],\n",
       "          ...,\n",
       "          [0.5020, 0.5176, 0.5020,  ..., 0.4196, 0.2353, 0.1059],\n",
       "          [0.4745, 0.4863, 0.4941,  ..., 0.4549, 0.2549, 0.1059],\n",
       "          [0.4706, 0.4784, 0.5020,  ..., 0.4510, 0.2549, 0.1020]],\n",
       "\n",
       "         [[0.2941, 0.4431, 0.4471,  ..., 0.5961, 0.6039, 0.8745],\n",
       "          [0.2745, 0.3804, 0.3176,  ..., 0.3490, 0.3137, 0.5294],\n",
       "          [0.2745, 0.3922, 0.2902,  ..., 0.2745, 0.2118, 0.2706],\n",
       "          ...,\n",
       "          [0.3765, 0.4000, 0.3922,  ..., 0.3451, 0.2157, 0.1098],\n",
       "          [0.3569, 0.3725, 0.3882,  ..., 0.3686, 0.2314, 0.1059],\n",
       "          [0.3529, 0.3686, 0.3961,  ..., 0.3686, 0.2275, 0.1020]]]])"
      ]
     },
     "execution_count": 43,
     "metadata": {},
     "output_type": "execute_result"
    }
   ],
   "source": [
    "img_tensor"
   ]
  },
  {
   "cell_type": "code",
   "execution_count": 44,
   "id": "2221a82c",
   "metadata": {},
   "outputs": [
    {
     "data": {
      "text/plain": [
       "tensor([[[[-0.0202, -0.1045, -0.0300,  ..., -0.0988, -0.3745, -0.1823],\n",
       "          [-0.0394,  0.0039, -0.0760,  ..., -0.1092, -0.0894, -0.0464],\n",
       "          [ 0.0695,  0.0468, -0.0259,  ..., -0.0219, -0.0361, -0.1044],\n",
       "          ...,\n",
       "          [-0.0519, -0.0913,  0.0129,  ..., -0.1006, -0.1024, -0.1740],\n",
       "          [-0.0485, -0.1100,  0.0042,  ..., -0.0741, -0.0532, -0.1300],\n",
       "          [-0.0783, -0.1298, -0.0687,  ..., -0.0541, -0.0476, -0.1475]],\n",
       "\n",
       "         [[ 0.2131,  0.2673,  0.3952,  ...,  0.3206,  0.2571,  0.3463],\n",
       "          [ 0.1800,  0.1600,  0.1847,  ...,  0.2684,  0.1805,  0.1569],\n",
       "          [ 0.1249,  0.1527,  0.1621,  ...,  0.2292,  0.2173,  0.2119],\n",
       "          ...,\n",
       "          [ 0.2243,  0.2630,  0.1739,  ...,  0.2378,  0.2373,  0.1576],\n",
       "          [ 0.2171,  0.1917,  0.1826,  ...,  0.2284,  0.2200,  0.1457],\n",
       "          [ 0.2292,  0.2096,  0.2355,  ...,  0.2133,  0.2065,  0.1290]],\n",
       "\n",
       "         [[-0.0165,  0.0415,  0.0923,  ..., -0.0759, -0.1321,  0.1253],\n",
       "          [ 0.0247, -0.0124, -0.0133,  ...,  0.0579, -0.1140,  0.0196],\n",
       "          [ 0.0422,  0.0170,  0.0253,  ...,  0.0097, -0.0597, -0.0055],\n",
       "          ...,\n",
       "          [-0.0485,  0.0862,  0.0254,  ..., -0.0300, -0.0342, -0.1687],\n",
       "          [-0.0048, -0.0372,  0.0147,  ..., -0.0303, -0.0597, -0.1229],\n",
       "          [-0.0374, -0.0234,  0.0162,  ..., -0.0164, -0.0274, -0.1390]],\n",
       "\n",
       "         ...,\n",
       "\n",
       "         [[-0.1694, -0.1645, -0.2404,  ..., -0.4103, -0.4106, -0.2891],\n",
       "          [-0.1764, -0.1679, -0.1752,  ..., -0.2501, -0.2661, -0.1908],\n",
       "          [-0.2979, -0.2614, -0.2837,  ..., -0.3312, -0.3008, -0.3260],\n",
       "          ...,\n",
       "          [-0.2652, -0.2947, -0.1519,  ..., -0.2803, -0.2798, -0.2771],\n",
       "          [-0.2476, -0.2915, -0.2010,  ..., -0.2760, -0.2674, -0.2330],\n",
       "          [-0.2768, -0.2761, -0.2745,  ..., -0.2585, -0.2608, -0.2329]],\n",
       "\n",
       "         [[ 0.0891,  0.1886,  0.1712,  ...,  0.1097,  0.2200,  0.1955],\n",
       "          [ 0.1231,  0.1019,  0.1177,  ...,  0.1113,  0.0155,  0.1025],\n",
       "          [-0.0439, -0.0112,  0.0390,  ...,  0.1490,  0.1900,  0.1637],\n",
       "          ...,\n",
       "          [ 0.1537,  0.1861,  0.1930,  ...,  0.1562,  0.1663,  0.1099],\n",
       "          [ 0.1580,  0.1056,  0.1273,  ...,  0.1423,  0.1266,  0.0889],\n",
       "          [ 0.1521,  0.1758,  0.1689,  ...,  0.0984,  0.1126,  0.0720]],\n",
       "\n",
       "         [[-0.0701, -0.0985, -0.1588,  ...,  0.0180, -0.0139, -0.2165],\n",
       "          [-0.0885, -0.0641, -0.0702,  ..., -0.1353, -0.2739, -0.1109],\n",
       "          [-0.0649, -0.0187,  0.0019,  ..., -0.1564, -0.1462, -0.1163],\n",
       "          ...,\n",
       "          [-0.0840, -0.0980, -0.0651,  ..., -0.0873, -0.0844, -0.0435],\n",
       "          [-0.0381, -0.0930, -0.0884,  ..., -0.0848, -0.0781, -0.0728],\n",
       "          [-0.0881, -0.0717, -0.1173,  ..., -0.0878, -0.0726, -0.0592]]]],\n",
       "       grad_fn=<ConvolutionBackward0>)"
      ]
     },
     "execution_count": 44,
     "metadata": {},
     "output_type": "execute_result"
    }
   ],
   "source": [
    "### applying convolution\n",
    "x = projection(img_tensor)\n",
    "x"
   ]
  },
  {
   "cell_type": "code",
   "execution_count": 45,
   "id": "4cb60eab",
   "metadata": {},
   "outputs": [
    {
     "data": {
      "text/plain": [
       "torch.Size([1, 128, 8, 8])"
      ]
     },
     "execution_count": 45,
     "metadata": {},
     "output_type": "execute_result"
    }
   ],
   "source": [
    "x.shape"
   ]
  },
  {
   "cell_type": "code",
   "execution_count": 46,
   "id": "15a2520e",
   "metadata": {},
   "outputs": [
    {
     "data": {
      "text/plain": [
       "torch.Size([1, 128, 64])"
      ]
     },
     "execution_count": 46,
     "metadata": {},
     "output_type": "execute_result"
    }
   ],
   "source": [
    "x.flatten(2).shape"
   ]
  },
  {
   "cell_type": "code",
   "execution_count": 47,
   "id": "88e1d60d",
   "metadata": {},
   "outputs": [
    {
     "data": {
      "text/plain": [
       "torch.Size([1, 64, 128])"
      ]
     },
     "execution_count": 47,
     "metadata": {},
     "output_type": "execute_result"
    }
   ],
   "source": [
    "x.flatten(2).transpose(1,2).shape"
   ]
  },
  {
   "cell_type": "code",
   "execution_count": 48,
   "id": "5a665ed9",
   "metadata": {},
   "outputs": [
    {
     "name": "stdout",
     "output_type": "stream",
     "text": [
      "after applying conv2D, torch.Size([1, 128, 8, 8])\n",
      "after flattening, torch.Size([1, 128, 64])\n",
      "after transpose torch.Size([1, 64, 128])\n",
      "Output shape: torch.Size([1, 64, 128])\n"
     ]
    }
   ],
   "source": [
    "img_tensor = img.unsqueeze(0)  # Add batch dimension: for one image, the shape will be (1, 3, 32, 32), we are faking the batch size just because the model demands a 4D tensor as the input\n",
    "\n",
    "patch_embed = PatchEmbedding(patch_size=4, emb_size=128)\n",
    "with torch.no_grad():\n",
    "    patch_vectors = patch_embed(img_tensor)\n",
    "\n",
    "print(\"Output shape:\", patch_vectors.shape)"
   ]
  },
  {
   "cell_type": "markdown",
   "id": "29bef83d",
   "metadata": {},
   "source": [
    "# Positional Encoding\n",
    "### ❓ Why is this needed?\n",
    "Transformers don’t “see” structure in sequences — they treat them as a bag of vectors. So if we feed in 64 patches, it doesn't know:\n",
    "\n",
    "Which patch is top-left?\n",
    "\n",
    "Which one is center?\n",
    "\n",
    "Which one is bottom-right?\n",
    "\n",
    "➡️ We solve this by adding positional information to each patch vector.\n",
    "\n",
    "Transformers don’t know anything about order or position in sequences unless we tell them. Unlike CNNs, which use kernels that scan spatially across pixels, Transformers treat inputs as just a set of tokens.\n",
    "\n",
    "In ViT:\n",
    "We give the Transformer a list of 64 patch vectors.\n",
    "But... it has no clue which patch came from where on the image. 😵\n",
    "\n",
    "So we need to inject position awareness using positional embeddings.\n",
    "\n",
    "### ✅ It’s just a tensor added to each patch vector:\n",
    "patch_embedding:    (1, 64, 128) → 64 patches, each 128-dim\n",
    "positional_encoding:(1, 64, 128) → 64 positional vectors\n",
    "positioned = patch_embedding + positional_encoding\n",
    "\n",
    "So the final input to the Transformer is:\n",
    "(1, 64, 128) — where each patch vector now includes position info\n",
    "\n",
    "### 🧠 Two Ways to Do This\n",
    "Method\tDescription\tCommon in\n",
    "- Fixed Sinusoidal\tUses sine/cosine functions\tNLP Transformers (e.g., BERT)\n",
    "- ✅ Learnable\tPositional embeddings are learned during training\tViT, modern vision models\n",
    "\n",
    "We’ll focus on the learnable version, as used in Vision Transformers.\n",
    "self.pos_embedding = nn.Parameter(torch.randn(1, num_patches + 1, emb_size)) , num_patches + 1 is to include 'cls_token'.\n",
    "\n",
    "| Patch Index | Patch Embedding (128D)   | Positional Embedding (128D) | Final Input to Transformer (128D) |\n",
    "| ----------- | ----------------------- | -------------------------- | -------------------------------- |\n",
    "| Patch 0     | `[e₀₀, e₀₁, ..., e₀127]` | `[p₀₀, p₀₁, ..., p₀127]`    | `e₀ + p₀`                        |\n",
    "| Patch 1     | `[e₁₀, e₁₁, ..., e₁127]` | `[p₁₀, p₁₁, ..., p₁127]`    | `e₁ + p₁`                        |\n",
    "| ...         | ...                     | ...                        | ...                              |\n",
    "| Patch 63    | ...                     | ...                        | `e₆₃ + p₆₃`                      |\n",
    "\n",
    "\n",
    "This way:\n",
    "\n",
    "Even if two patches have identical pixel values (same eᵢ)\n",
    "\n",
    "Their final representation will be different because of pᵢ\n",
    "\n",
    "✅ That’s how we encode spatial awareness into a Transformer.\n",
    "\n",
    "\n",
    "### CLS TOKEN\n",
    "It’s a special trainable vector that is prepended to the sequence of patch embeddings before feeding into the Transformer.\n",
    "\n",
    "Originally introduced in BERT (NLP model), it’s reused in ViT.\n",
    "\n",
    "Transformers process entire sequences, and you typically get one output per token.\n",
    "But in classification, you want one output for the entire image.\n",
    "\n",
    "So instead of:\n",
    "\n",
    "Averaging the patch outputs (like in CNN global pooling),\n",
    "\n",
    "Or building a separate head,\n",
    "\n",
    "✅ You just add a [CLS] token, and let the model learn to treat it as a summary collector.\n",
    "\n",
    "✅ Summary Role of [CLS] Token\n",
    "Input: Added to start of patch sequence\n",
    "\n",
    "Transformer: Attends to all patches in every layer\n",
    "\n",
    "Output: Final hidden state of [CLS] is used for classification\n",
    "\n",
    "Think of [CLS] as a learnable sponge that absorbs global image information through attention.\n",
    "\n",
    "🔬 How It Works in Practice\n",
    "\n",
    "🔢 Suppose:\n",
    "Patch embedding produces 64 tokens of 128 dims each → shape: (B, 64, 128)\n",
    "\n",
    "You prepend 1 [CLS] token → now shape: (B, 65, 128)\n",
    "\n",
    "So:\n",
    "\n",
    "x.shape after patch embedding = (B, 64, 128)\n",
    "\n",
    "Add [CLS]: becomes (B, 65, 128)\n",
    "\n",
    "pos_embedding.shape: (1, 65, 128)\n"
   ]
  },
  {
   "cell_type": "code",
   "execution_count": 49,
   "id": "47b500a0",
   "metadata": {},
   "outputs": [
    {
     "data": {
      "text/plain": [
       "torch.Size([1, 64, 128])"
      ]
     },
     "execution_count": 49,
     "metadata": {},
     "output_type": "execute_result"
    }
   ],
   "source": [
    "## Output from the previous step - Patch Embedding \n",
    "patch_vectors.shape"
   ]
  },
  {
   "cell_type": "code",
   "execution_count": 50,
   "id": "a8e54b0c",
   "metadata": {},
   "outputs": [
    {
     "data": {
      "text/plain": [
       "tensor([[[ 0.0281,  0.0488, -0.1671,  ...,  0.1449,  0.1038, -0.2975],\n",
       "         [ 0.0119,  0.0947,  0.0313,  ...,  0.1755, -0.0231, -0.4171],\n",
       "         [-0.0735,  0.2013, -0.1353,  ...,  0.2423, -0.0250, -0.5145],\n",
       "         ...,\n",
       "         [ 0.0921,  0.0644, -0.3029,  ...,  0.1410,  0.0883, -0.3464],\n",
       "         [ 0.0856,  0.0758, -0.3246,  ...,  0.1737,  0.0869, -0.3674],\n",
       "         [ 0.0298, -0.0794, -0.3328,  ..., -0.0320,  0.2554, -0.1896]]])"
      ]
     },
     "execution_count": 50,
     "metadata": {},
     "output_type": "execute_result"
    }
   ],
   "source": [
    "patch_vectors"
   ]
  },
  {
   "cell_type": "code",
   "execution_count": null,
   "id": "38558eaa",
   "metadata": {},
   "outputs": [],
   "source": [
    "class ViTInput(nn.Module):\n",
    "    \n",
    "    def __init__(self, num_patches=64, emb_size=64, include_cls=True):    \n",
    "        super().__init__()\n",
    "        self.include_cls = include_cls\n",
    "        if include_cls:\n",
    "            # Create a trainable CLS token\n",
    "            self.cls_token = nn.Parameter(torch.randn(1, 1, emb_size))  # (1, 1, 64)\n",
    "        else:\n",
    "            self.cls_token = None\n",
    "        \n",
    "        # Positional embedding for all tokens (patches + CLS if present)\n",
    "        self.pos_embedding = nn.Parameter(\n",
    "            torch.randn(1, num_patches + int(include_cls), emb_size)\n",
    "        )\n",
    "\n",
    "    def forward(self, x):  # x shape: (B, 64, 64)        \n",
    "        B, N, E = x.shape\n",
    "        \n",
    "        if self.include_cls:\n",
    "            cls_tokens = self.cls_token.expand(B, -1, -1)  # (B, 1, E)\n",
    "            x = torch.cat([cls_tokens, x], dim=1)          # (B, 65, E)\n",
    "\n",
    "        x = x + self.pos_embedding[:, :x.size(1), :]       # Add positional encoding\n",
    "        return x\n"
   ]
  },
  {
   "cell_type": "code",
   "execution_count": 52,
   "metadata": {},
   "outputs": [
    {
     "data": {
      "text/plain": [
       "Parameter containing:\n",
       "tensor([[[ 0.5443, -1.2087, -0.8276,  0.5431,  0.6837,  0.6449, -0.3903,\n",
       "           1.6828,  1.4183,  1.3319,  2.6950, -0.9619,  1.3587, -0.2581,\n",
       "          -0.2381, -0.1279,  0.8174, -0.0683, -0.3495, -0.3837, -1.0224,\n",
       "           1.7470, -1.3680,  1.4968,  1.0419,  1.8361,  1.3865,  0.3257,\n",
       "          -0.3368,  1.5277, -1.4472,  0.6737,  1.1420, -0.2218, -1.5787,\n",
       "           0.3148, -0.5148, -0.8375, -0.6938,  0.5123, -0.1617, -0.6039,\n",
       "          -0.1356, -0.5148, -0.1932, -1.5606,  0.8449, -2.3375, -1.3724,\n",
       "           0.2222,  0.7883,  1.3188, -0.3839, -1.1409,  0.6007,  1.1602,\n",
       "          -0.9717, -0.2907,  0.0898,  0.1581,  0.4025,  0.4153, -0.5192,\n",
       "           0.6851,  2.1454, -0.1097, -1.2872,  1.1641, -0.7736,  1.2010,\n",
       "           0.4821, -2.3750,  0.5498, -1.0623,  0.7939, -0.9616,  0.7300,\n",
       "           0.0193,  0.1770,  0.6844, -1.2934, -0.5852, -0.7679,  0.4909,\n",
       "          -0.2089,  0.0039,  0.2492,  0.4179, -0.8954, -1.0040,  1.3773,\n",
       "           0.4326,  0.3358,  0.4265, -0.7622, -1.5604, -0.0716,  0.5139,\n",
       "          -0.1304,  0.6168, -0.0513, -0.3771, -2.1280,  1.9902, -0.1103,\n",
       "           0.6034, -1.5095, -2.0950,  0.2384,  0.8864,  0.0380, -0.5656,\n",
       "           1.0347,  0.5639, -2.0511,  0.0844,  0.3589, -0.0933, -1.2440,\n",
       "          -0.1617,  2.0943,  1.4670, -0.2284, -0.5596,  1.5421,  1.3926,\n",
       "           0.3727, -0.2670]]], requires_grad=True)"
      ]
     },
     "execution_count": 52,
     "metadata": {},
     "output_type": "execute_result"
    }
   ],
   "source": [
    "cls_token = nn.Parameter(torch.randn(1, 1, 128))\n",
    "cls_token"
   ]
  },
  {
   "cell_type": "code",
   "execution_count": 57,
   "id": "141c0622",
   "metadata": {},
   "outputs": [
    {
     "data": {
      "text/plain": [
       "torch.Size([1, 64, 128])"
      ]
     },
     "execution_count": 57,
     "metadata": {},
     "output_type": "execute_result"
    }
   ],
   "source": [
    "patch_vectors.shape"
   ]
  },
  {
   "cell_type": "code",
   "execution_count": 72,
   "id": "7f75e8b8",
   "metadata": {},
   "outputs": [
    {
     "data": {
      "text/plain": [
       "torch.Size([1, 1, 128])"
      ]
     },
     "execution_count": 72,
     "metadata": {},
     "output_type": "execute_result"
    }
   ],
   "source": [
    "cls_token.shape"
   ]
  },
  {
   "cell_type": "code",
   "execution_count": 82,
   "id": "8c073e5f",
   "metadata": {},
   "outputs": [
    {
     "data": {
      "text/plain": [
       "torch.Size([1, 65, 128])"
      ]
     },
     "execution_count": 82,
     "metadata": {},
     "output_type": "execute_result"
    }
   ],
   "source": [
    "num_patches = 64\n",
    "include_cls = True\n",
    "emb_size=128\n",
    "\n",
    "B, N, E = patch_vectors.shape\n",
    "cls_token = nn.Parameter(torch.randn(1, 1, 128))\n",
    "cls_tokens = cls_token.expand(B, -1, -1)\n",
    "patch_vectors_cls_added = torch.cat([cls_tokens, patch_vectors], dim=1)\n",
    "patch_vectors_cls_added.shape"
   ]
  },
  {
   "cell_type": "code",
   "execution_count": 83,
   "id": "b03fcd38",
   "metadata": {},
   "outputs": [
    {
     "data": {
      "text/plain": [
       "tensor([[[-0.6458,  1.0369, -1.0193,  ...,  1.7842, -0.1007,  0.2384],\n",
       "         [ 0.0281,  0.0488, -0.1671,  ...,  0.1449,  0.1038, -0.2975],\n",
       "         [ 0.0119,  0.0947,  0.0313,  ...,  0.1755, -0.0231, -0.4171],\n",
       "         ...,\n",
       "         [ 0.0921,  0.0644, -0.3029,  ...,  0.1410,  0.0883, -0.3464],\n",
       "         [ 0.0856,  0.0758, -0.3246,  ...,  0.1737,  0.0869, -0.3674],\n",
       "         [ 0.0298, -0.0794, -0.3328,  ..., -0.0320,  0.2554, -0.1896]]],\n",
       "       grad_fn=<CatBackward0>)"
      ]
     },
     "execution_count": 83,
     "metadata": {},
     "output_type": "execute_result"
    }
   ],
   "source": [
    "patch_vectors_cls_added"
   ]
  },
  {
   "cell_type": "code",
   "execution_count": null,
   "id": "f7da546c",
   "metadata": {},
   "outputs": [
    {
     "data": {
      "text/plain": [
       "Parameter containing:\n",
       "tensor([[[-0.3151, -1.0432, -0.0393,  ..., -0.0140, -1.2721, -1.7620],\n",
       "         [ 1.3543, -0.7176, -1.4389,  ...,  0.2655, -1.0941,  1.2384],\n",
       "         [ 2.3830, -1.8270,  0.2797,  ..., -0.5667,  0.1631, -0.5172],\n",
       "         ...,\n",
       "         [-0.0358,  1.3445, -0.1702,  ..., -0.8810,  0.1896, -1.4092],\n",
       "         [ 0.8369, -0.0627, -0.4133,  ..., -1.0886,  1.2613, -0.3744],\n",
       "         [-0.1815, -0.4302,  2.4264,  ...,  1.7539,  1.8274,  1.6226]]],\n",
       "       requires_grad=True)"
      ]
     },
     "execution_count": 84,
     "metadata": {},
     "output_type": "execute_result"
    }
   ],
   "source": [
    "pos_embedding = nn.Parameter(\n",
    "        torch.randn(1, num_patches + int(include_cls), emb_size)\n",
    "    )\n",
    "pos_embedding"
   ]
  },
  {
   "cell_type": "code",
   "execution_count": 85,
   "id": "6fec7285",
   "metadata": {},
   "outputs": [
    {
     "data": {
      "text/plain": [
       "torch.Size([1, 65, 128])"
      ]
     },
     "execution_count": 85,
     "metadata": {},
     "output_type": "execute_result"
    }
   ],
   "source": [
    "pos_embedding.shape"
   ]
  },
  {
   "cell_type": "code",
   "execution_count": null,
   "id": "4aee8af4",
   "metadata": {},
   "outputs": [
    {
     "data": {
      "text/plain": [
       "Parameter containing:\n",
       "tensor([[[-0.3151, -1.0432, -0.0393,  ..., -0.0140, -1.2721, -1.7620],\n",
       "         [ 1.3543, -0.7176, -1.4389,  ...,  0.2655, -1.0941,  1.2384],\n",
       "         [ 2.3830, -1.8270,  0.2797,  ..., -0.5667,  0.1631, -0.5172],\n",
       "         ...,\n",
       "         [-0.0358,  1.3445, -0.1702,  ..., -0.8810,  0.1896, -1.4092],\n",
       "         [ 0.8369, -0.0627, -0.4133,  ..., -1.0886,  1.2613, -0.3744],\n",
       "         [-0.1815, -0.4302,  2.4264,  ...,  1.7539,  1.8274,  1.6226]]],\n",
       "       requires_grad=True)"
      ]
     },
     "execution_count": 88,
     "metadata": {},
     "output_type": "execute_result"
    }
   ],
   "source": [
    "pos_embedding[:, ]"
   ]
  },
  {
   "cell_type": "code",
   "execution_count": 92,
   "id": "f238dde7",
   "metadata": {},
   "outputs": [
    {
     "data": {
      "text/plain": [
       "128"
      ]
     },
     "execution_count": 92,
     "metadata": {},
     "output_type": "execute_result"
    }
   ],
   "source": [
    "patch_vectors_cls_added.size(2)"
   ]
  },
  {
   "cell_type": "code",
   "execution_count": 93,
   "id": "93fbd477",
   "metadata": {},
   "outputs": [],
   "source": [
    "pos_embedding = nn.Parameter(\n",
    "    torch.randn(1, num_patches + int(include_cls), emb_size)\n",
    "    )\n",
    "tokens_with_cls = patch_vectors_cls_added + pos_embedding[:, :patch_vectors_cls_added.size(1), :]"
   ]
  },
  {
   "cell_type": "code",
   "execution_count": 94,
   "id": "be3b441f",
   "metadata": {},
   "outputs": [
    {
     "data": {
      "text/plain": [
       "tensor([[[-0.6886,  0.0145, -1.1406,  ...,  0.9967, -0.1300,  0.2415],\n",
       "         [ 3.2012,  0.8436, -0.5777,  ..., -0.4499,  1.4338,  1.1878],\n",
       "         [ 0.7825, -0.2857,  0.4328,  ...,  0.9572,  1.8117, -1.2131],\n",
       "         ...,\n",
       "         [ 0.4234, -1.3387,  1.3495,  ...,  1.0028,  1.1487, -2.0295],\n",
       "         [-0.2278, -0.4514,  0.0765,  ...,  1.4625,  1.1042, -1.1956],\n",
       "         [ 0.9122,  0.0558, -1.8295,  ...,  1.7379, -0.2798,  0.5286]]],\n",
       "       grad_fn=<AddBackward0>)"
      ]
     },
     "execution_count": 94,
     "metadata": {},
     "output_type": "execute_result"
    }
   ],
   "source": [
    "tokens_with_cls"
   ]
  },
  {
   "cell_type": "code",
   "execution_count": 99,
   "id": "a37771c8",
   "metadata": {},
   "outputs": [
    {
     "name": "stdout",
     "output_type": "stream",
     "text": [
      "Final shape with CLS: torch.Size([1, 65, 128])\n"
     ]
    }
   ],
   "source": [
    "vit_input = ViTInput(num_patches=64, emb_size=128, include_cls=True)\n",
    "tokens_with_cls = vit_input(patch_vectors)\n",
    "print(\"Final shape with CLS:\", tokens_with_cls.shape)  # (1, 65, 64)"
   ]
  },
  {
   "cell_type": "code",
   "execution_count": null,
   "id": "44fc9a60",
   "metadata": {},
   "outputs": [],
   "source": []
  },
  {
   "cell_type": "markdown",
   "id": "4908b745",
   "metadata": {},
   "source": [
    "# Transformer Encoder Block\n",
    "💡 Each Transformer block contains:\n",
    "Multi-Head Self-Attention (MHSA)\n",
    "\n",
    "Add & LayerNorm\n",
    "\n",
    "Feedforward MLP\n",
    "\n",
    "Add & LayerNorm\n",
    "\n",
    "There are multiple such blocks like 6 or 12."
   ]
  },
  {
   "cell_type": "code",
   "execution_count": 102,
   "id": "5b3849ab",
   "metadata": {},
   "outputs": [
    {
     "data": {
      "text/plain": [
       "torch.Size([1, 65, 128])"
      ]
     },
     "execution_count": 102,
     "metadata": {},
     "output_type": "execute_result"
    }
   ],
   "source": [
    "tokens_with_cls.shape"
   ]
  },
  {
   "cell_type": "code",
   "execution_count": null,
   "id": "30bd5a7a",
   "metadata": {},
   "outputs": [],
   "source": [
    "import torch\n",
    "import torch.nn as nn\n",
    "\n",
    "class TransformerEncoderBlock(nn.Module):\n",
    "    def __init__(self, emb_size=64, num_heads=4, mlp_ratio=4.0, dropout=0.1):\n",
    "        super().__init__()\n",
    "        self.ln1 = nn.LayerNorm(emb_size)\n",
    "        self.attn = nn.MultiheadAttention(embed_dim=emb_size, num_heads=num_heads, batch_first=True)\n",
    "        self.ln2 = nn.LayerNorm(emb_size)\n",
    "        \n",
    "        self.mlp = nn.Sequential(\n",
    "            nn.Linear(emb_size, int(emb_size * mlp_ratio)),\n",
    "            nn.GELU(),\n",
    "            nn.Dropout(dropout),\n",
    "            nn.Linear(int(emb_size * mlp_ratio), emb_size),\n",
    "            nn.Dropout(dropout),\n",
    "        )\n",
    "\n",
    "    def forward(self, x):\n",
    "        # Multi-head Self-Attention with Residual\n",
    "        x = x + self.attn(self.ln1(x), self.ln1(x), self.ln1(x))[0]\n",
    "        # Feedforward MLP with Residual\n",
    "        x = x + self.mlp(self.ln2(x))\n",
    "        return x"
   ]
  },
  {
   "cell_type": "code",
   "execution_count": 110,
   "id": "b56d1bbb",
   "metadata": {},
   "outputs": [
    {
     "name": "stdout",
     "output_type": "stream",
     "text": [
      "Output shape from Transformer Encoder Block: torch.Size([1, 65, 128])\n"
     ]
    }
   ],
   "source": [
    "encoder_block = TransformerEncoderBlock(emb_size=128, num_heads=4)\n",
    "# Pass input tokens through Transformer Encoder Block\n",
    "with torch.no_grad():  # Disable gradients for now (inference/debug)\n",
    "    output_tokens = encoder_block(tokens_with_cls)\n",
    "\n",
    "print(\"Output shape from Transformer Encoder Block:\", output_tokens.shape)\n"
   ]
  },
  {
   "cell_type": "code",
   "execution_count": 114,
   "id": "fcf4893e",
   "metadata": {},
   "outputs": [
    {
     "data": {
      "text/plain": [
       "torch.Size([1, 65, 128])"
      ]
     },
     "execution_count": 114,
     "metadata": {},
     "output_type": "execute_result"
    }
   ],
   "source": [
    "output_tokens.shape"
   ]
  },
  {
   "cell_type": "code",
   "execution_count": null,
   "id": "4c190822",
   "metadata": {},
   "outputs": [
    {
     "data": {
      "text/plain": [
       "tensor([[[ 0.3190, -3.1615,  0.4054,  ...,  1.9170, -2.6788, -0.7548],\n",
       "         [-0.8424,  0.2914, -1.7966,  ...,  1.3436, -0.3509,  0.9910],\n",
       "         [ 0.5700, -0.3865, -0.0163,  ...,  0.1557, -2.4257, -0.8484],\n",
       "         ...,\n",
       "         [ 2.4268, -0.2838,  0.4983,  ...,  1.5367, -0.2998,  1.0226],\n",
       "         [-1.2276,  2.2232,  0.0259,  ..., -0.9833, -0.1569, -0.0787],\n",
       "         [-0.4944, -1.6785,  0.2877,  ...,  0.5237, -1.2672,  0.2341]]])"
      ]
     },
     "execution_count": 113,
     "metadata": {},
     "output_type": "execute_result"
    }
   ],
   "source": [
    "output_tokens\n"
   ]
  },
  {
   "cell_type": "markdown",
   "id": "56de0e8a",
   "metadata": {},
   "source": [
    "# Extracting CLS Token for classification"
   ]
  },
  {
   "cell_type": "code",
   "execution_count": 116,
   "id": "b573b3ad",
   "metadata": {},
   "outputs": [],
   "source": [
    "class ClassificationHead(nn.Module):\n",
    "    def __init__(self, emb_size=64, num_classes=10):\n",
    "        super().__init__()\n",
    "        self.norm = nn.LayerNorm(emb_size)\n",
    "        self.fc = nn.Linear(emb_size, num_classes)\n",
    "\n",
    "    def forward(self, x):\n",
    "        cls_token = x[:, 0]       # Extract only the [CLS] token: shape (B, E)\n",
    "        cls_token = self.norm(cls_token)\n",
    "        return self.fc(cls_token)  # Final shape: (B, num_classes)\n"
   ]
  },
  {
   "cell_type": "code",
   "execution_count": 118,
   "id": "2f7e3df2",
   "metadata": {},
   "outputs": [
    {
     "name": "stdout",
     "output_type": "stream",
     "text": [
      "Logits shape: torch.Size([1, 10])\n"
     ]
    }
   ],
   "source": [
    "head = ClassificationHead(emb_size=128, num_classes=10)\n",
    "with torch.no_grad():\n",
    "    logits = head(output_tokens)\n",
    "\n",
    "print(\"Logits shape:\", logits.shape)"
   ]
  },
  {
   "cell_type": "code",
   "execution_count": 119,
   "id": "fee240e4",
   "metadata": {},
   "outputs": [
    {
     "data": {
      "text/plain": [
       "tensor([[ 0.5009, -0.0218,  0.1075,  0.9305, -0.6950, -0.1372,  0.2581, -0.5056,\n",
       "          0.2392,  0.5679]])"
      ]
     },
     "execution_count": 119,
     "metadata": {},
     "output_type": "execute_result"
    }
   ],
   "source": [
    "logits"
   ]
  },
  {
   "cell_type": "markdown",
   "id": "891c24b3",
   "metadata": {},
   "source": [
    "# Complete Class Testing"
   ]
  },
  {
   "cell_type": "code",
   "execution_count": 1,
   "id": "91cfe9c8",
   "metadata": {},
   "outputs": [],
   "source": [
    "import torch\n",
    "import torch.nn as nn\n",
    "import torch.nn.functional as F\n",
    "\n",
    "# config numbers\n",
    "class ViTConfig:\n",
    "    def __init__(self,\n",
    "                 img_size=32,\n",
    "                 patch_size=4,\n",
    "                 in_channels=3,\n",
    "                 emb_size=64,\n",
    "                 depth=6,\n",
    "                 num_heads=4,\n",
    "                 mlp_ratio=4.0,\n",
    "                 num_classes=10,\n",
    "                 dropout=0.1):\n",
    "        self.img_size = img_size\n",
    "        self.patch_size = patch_size\n",
    "        self.in_channels = in_channels\n",
    "        self.emb_size = emb_size\n",
    "        self.depth = depth\n",
    "        self.num_heads = num_heads\n",
    "        self.mlp_ratio = mlp_ratio\n",
    "        self.num_classes = num_classes\n",
    "        self.dropout = dropout\n",
    "\n",
    "# Patch Embedding\n",
    "class PatchEmbedding(nn.Module):\n",
    "    def __init__(self, in_channels, patch_size, emb_size, img_size):\n",
    "        super().__init__()\n",
    "        self.patch_size = patch_size\n",
    "        self.n_patches = (img_size // patch_size) ** 2\n",
    "        self.projection = nn.Conv2d(in_channels, emb_size, kernel_size=patch_size, stride=patch_size)\n",
    "\n",
    "    def forward(self, x):\n",
    "        x = self.projection(x)        # (B, emb_size, H/patch, W/patch)\n",
    "        x = x.flatten(2)              # (B, emb_size, N)\n",
    "        x = x.transpose(1, 2)         # (B, N, emb_size)\n",
    "        return x                      # Shape: (B, N, E)\n",
    "\n",
    "# Transformer Encoder Block\n",
    "class TransformerEncoderBlock(nn.Module):\n",
    "    def __init__(self, emb_size, num_heads, mlp_ratio, dropout):\n",
    "        super().__init__()\n",
    "        self.ln1 = nn.LayerNorm(emb_size)\n",
    "        self.attn = nn.MultiheadAttention(embed_dim=emb_size, num_heads=num_heads, batch_first=True)\n",
    "        self.ln2 = nn.LayerNorm(emb_size)\n",
    "        self.mlp = nn.Sequential(\n",
    "            nn.Linear(emb_size, int(emb_size * mlp_ratio)),\n",
    "            nn.GELU(),\n",
    "            nn.Dropout(dropout),\n",
    "            nn.Linear(int(emb_size * mlp_ratio), emb_size),\n",
    "            nn.Dropout(dropout),\n",
    "        )\n",
    "\n",
    "    def forward(self, x):\n",
    "        x = x + self.attn(self.ln1(x), self.ln1(x), self.ln1(x))[0]\n",
    "        x = x + self.mlp(self.ln2(x))\n",
    "        return x\n",
    "\n",
    "# Vit Test Model\n",
    "class VisionTransformer(nn.Module):\n",
    "    def __init__(self, config):\n",
    "        super().__init__()\n",
    "        cfg = config[\"model\"]\n",
    "        \n",
    "        self.CHANNEL = cfg[\"in_channels\"]\n",
    "        self.PATCH = cfg[\"patch_size\"]\n",
    "        self.EMBEDDING = cfg[\"emb_size\"]\n",
    "        self.IMAGE = cfg[\"img_size\"]\n",
    "        self.NUM_HEADS = cfg[\"num_heads\"]\n",
    "        self.MLP_RATIO = cfg[\"mlp_ratio\"]\n",
    "        self.DROPOUT = cfg[\"dropout\"]\n",
    "        self.NUM_CLASS = cfg[\"num_classes\"]\n",
    "        self.DEPTH = cfg[\"depth\"]\n",
    "\n",
    "        self.patch_embed = PatchEmbedding(\n",
    "            in_channels=self.CHANNEL,\n",
    "            patch_size=self.PATCH,\n",
    "            emb_size=self.EMBEDDING,\n",
    "            img_size=self.IMAGE\n",
    "        )\n",
    "\n",
    "        self.n_patches = (self.IMAGE// self.PATCH) ** 2\n",
    "        self.cls_token = nn.Parameter(torch.randn(1, 1, self.EMBEDDING))\n",
    "        self.pos_embedding = nn.Parameter(torch.randn(1, self.n_patches + 1, self.EMBEDDING))\n",
    "\n",
    "        self.encoder = nn.Sequential(*[\n",
    "            TransformerEncoderBlock(\n",
    "                emb_size=self.EMBEDDING,\n",
    "                num_heads=self.NUM_HEADS,\n",
    "                mlp_ratio=self.MLP_RATIO,\n",
    "                dropout=self.DROPOUT\n",
    "            ) for _ in range(self.DEPTH)\n",
    "        ])\n",
    "\n",
    "        self.norm = nn.LayerNorm(self.EMBEDDING)\n",
    "        self.head = nn.Linear(self.EMBEDDING, self.NUM_CLASS)\n",
    "\n",
    "    def forward(self, x):\n",
    "        B = x.size(0)\n",
    "        x = self.patch_embed(x)\n",
    "        cls_tokens = self.cls_token.expand(B, -1, -1)\n",
    "        x = torch.cat((cls_tokens, x), dim=1)\n",
    "        x = x + self.pos_embedding[:, :x.size(1), :]\n",
    "        x = self.encoder(x)\n",
    "        cls_out = self.norm(x[:, 0])\n",
    "        return self.head(cls_out)\n"
   ]
  },
  {
   "cell_type": "code",
   "execution_count": 2,
   "id": "f2c14041",
   "metadata": {},
   "outputs": [],
   "source": [
    "import sys\n",
    "import os\n",
    "CURR_PATH = f'/home/wd/Documents/work_stuff/ViT_REPLICATION'\n",
    "sys.path.append(os.path.abspath(CURR_PATH))  # Adds root directory to sys.path"
   ]
  },
  {
   "cell_type": "code",
   "execution_count": 3,
   "id": "10947e30",
   "metadata": {},
   "outputs": [],
   "source": [
    "from utils.config_loader import load_config"
   ]
  },
  {
   "cell_type": "code",
   "execution_count": 4,
   "id": "cc2762f0",
   "metadata": {},
   "outputs": [
    {
     "data": {
      "text/plain": [
       "{'root': {'path': '/home/wd/Documents/work_stuff/ViT_REPLICATION'},\n",
       " 'data': {'dataset': 'CIFAR10',\n",
       "  'data_path': '/home/wd/Documents/work_stuff/ViT_REPLICATION/data/CIFAR10',\n",
       "  'batch_size': 64,\n",
       "  'num_workers': 4,\n",
       "  'img_size': 32},\n",
       " 'model': {'img_size': 32,\n",
       "  'patch_size': 4,\n",
       "  'in_channels': 3,\n",
       "  'emb_size': 128,\n",
       "  'depth': 4,\n",
       "  'num_heads': 4,\n",
       "  'mlp_ratio': 4.0,\n",
       "  'num_classes': 10,\n",
       "  'dropout': 0.1}}"
      ]
     },
     "execution_count": 4,
     "metadata": {},
     "output_type": "execute_result"
    }
   ],
   "source": [
    "# loading config file for CIFAR10\n",
    "config = load_config(f\"{CURR_PATH}/config/vit_test_config.yaml\")\n",
    "config"
   ]
  },
  {
   "cell_type": "markdown",
   "id": "29c23e9b",
   "metadata": {},
   "source": [
    "### building the model"
   ]
  },
  {
   "cell_type": "code",
   "execution_count": 138,
   "metadata": {},
   "outputs": [
    {
     "name": "stdout",
     "output_type": "stream",
     "text": [
      "torch.Size([1, 3, 32, 32])\n",
      "Output shape: torch.Size([1, 10])\n"
     ]
    }
   ],
   "source": [
    "model = VisionTransformer(config)\n",
    "\n",
    "dummy_input = torch.randn(1, 3, 32, 32)\n",
    "print(dummy_input.shape)\n",
    "with torch.no_grad():\n",
    "    output = model(dummy_input)\n",
    "\n",
    "print(\"Output shape:\", output.shape)  # torch.Size([1, 10])\n"
   ]
  },
  {
   "cell_type": "code",
   "execution_count": 136,
   "id": "da1fddee",
   "metadata": {},
   "outputs": [
    {
     "data": {
      "text/plain": [
       "tensor([[ 0.3500,  0.0149,  0.6415,  0.1470,  0.7542, -0.4720, -0.0573, -0.1689,\n",
       "         -1.3927,  0.0716]])"
      ]
     },
     "execution_count": 136,
     "metadata": {},
     "output_type": "execute_result"
    }
   ],
   "source": [
    "output"
   ]
  },
  {
   "cell_type": "markdown",
   "id": "846576ec",
   "metadata": {},
   "source": [
    "### loading Data CIFAR10"
   ]
  },
  {
   "cell_type": "code",
   "execution_count": 5,
   "id": "0ea01113",
   "metadata": {},
   "outputs": [
    {
     "name": "stdout",
     "output_type": "stream",
     "text": [
      "Train batches: 782, Test batches: 157\n"
     ]
    }
   ],
   "source": [
    "from utils.data_loader import DatasetLoader\n",
    "\n",
    "# loading config file for CIFAR10\n",
    "data_cfg = config[\"data\"]\n",
    "DATASET = data_cfg[\"dataset\"]\n",
    "DATA_DIR = data_cfg[\"data_path\"]\n",
    "BATCH = data_cfg[\"batch_size\"]\n",
    "NUM_WORKERS = data_cfg[\"num_workers\"]\n",
    "IMAGE = data_cfg[\"img_size\"]\n",
    "\n",
    "# loading data\n",
    "loader = DatasetLoader(dataset_name=DATASET,\n",
    "                        data_dir=DATA_DIR,\n",
    "                        batch_size=BATCH,\n",
    "                        num_workers=NUM_WORKERS,\n",
    "                        img_size=IMAGE)\n",
    "train_loader, test_loader = loader.get_loaders()\n",
    "print(f\"Train batches: {len(train_loader)}, Test batches: {len(test_loader)}\")\n"
   ]
  },
  {
   "cell_type": "code",
   "execution_count": 6,
   "id": "db63014a",
   "metadata": {},
   "outputs": [
    {
     "name": "stdout",
     "output_type": "stream",
     "text": [
      "torch.Size([64, 3, 32, 32]) torch.Size([64])\n"
     ]
    }
   ],
   "source": [
    "for images, labels in train_loader:\n",
    "    print(images.shape, labels.shape)\n",
    "    break\n"
   ]
  },
  {
   "cell_type": "code",
   "execution_count": 7,
   "id": "73df3f32",
   "metadata": {},
   "outputs": [
    {
     "name": "stdout",
     "output_type": "stream",
     "text": [
      "classes present in the batch of 64 images\n"
     ]
    },
    {
     "data": {
      "text/plain": [
       "tensor([4, 2, 9, 6, 7, 5, 2, 0, 2, 4, 8, 2, 5, 7, 0, 2, 4, 5, 1, 7, 6, 8, 0, 5,\n",
       "        2, 5, 0, 8, 8, 1, 5, 7, 0, 5, 5, 2, 5, 7, 0, 3, 5, 2, 8, 0, 8, 5, 1, 4,\n",
       "        3, 5, 8, 7, 3, 1, 6, 2, 1, 8, 6, 2, 5, 8, 4, 4])"
      ]
     },
     "execution_count": 7,
     "metadata": {},
     "output_type": "execute_result"
    }
   ],
   "source": [
    "print('classes present in the batch of 64 images')\n",
    "labels"
   ]
  },
  {
   "cell_type": "code",
   "execution_count": null,
   "id": "2257d01e",
   "metadata": {},
   "outputs": [],
   "source": []
  },
  {
   "cell_type": "code",
   "execution_count": null,
   "metadata": {},
   "outputs": [],
   "source": []
  }
 ],
 "metadata": {
  "kernelspec": {
   "display_name": "_vit_rep_py310",
   "language": "python",
   "name": "python3"
  },
  "language_info": {
   "codemirror_mode": {
    "name": "ipython",
    "version": 3
   },
   "file_extension": ".py",
   "mimetype": "text/x-python",
   "name": "python",
   "nbconvert_exporter": "python",
   "pygments_lexer": "ipython3",
   "version": "3.10.12"
  }
 },
 "nbformat": 4,
 "nbformat_minor": 5
}
