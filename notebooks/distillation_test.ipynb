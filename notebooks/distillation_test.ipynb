{
 "cells": [
  {
   "cell_type": "code",
   "execution_count": 1,
   "id": "623c26a5",
   "metadata": {},
   "outputs": [
    {
     "name": "stderr",
     "output_type": "stream",
     "text": [
      "/home/wd/Documents/work_stuff/ViT_REPLICATION/_vit_rep_py310/lib/python3.10/site-packages/tqdm/auto.py:21: TqdmWarning: IProgress not found. Please update jupyter and ipywidgets. See https://ipywidgets.readthedocs.io/en/stable/user_install.html\n",
      "  from .autonotebook import tqdm as notebook_tqdm\n"
     ]
    }
   ],
   "source": [
    "import sys\n",
    "import os\n",
    "from dotenv import load_dotenv\n",
    "load_dotenv()\n",
    "ROOT_DIR_PATH = os.environ.get('ROOT_PATH')\n",
    "sys.path.append(os.path.abspath(ROOT_DIR_PATH))  # Adds root directory to sys.path\n",
    "\n",
    "import time\n",
    "import torch\n",
    "import torch.nn as nn\n",
    "import torch.optim as optim\n",
    "from torch.utils.data import DataLoader\n",
    "from tqdm import tqdm\n",
    "from model.vit import VisionTransformerSmall\n",
    "from utils.model_io import save_model\n",
    "from utils.config_loader import load_config\n",
    "from utils.data_loader import DatasetLoader\n",
    "from pynvml import (\n",
    "    nvmlInit, nvmlDeviceGetName, nvmlShutdown,\n",
    "    nvmlDeviceGetHandleByIndex,\n",
    "    nvmlDeviceGetMemoryInfo,\n",
    "    nvmlDeviceGetUtilizationRates\n",
    ")\n",
    "from torch.optim.lr_scheduler import CosineAnnealingLR\n",
    "from timm.data import Mixup\n",
    "import numpy as np\n",
    "from transformers import get_cosine_schedule_with_warmup\n",
    "import wandb\n",
    "from utils.checkpoints_manager import CheckpointManager\n",
    "from datetime import datetime as dt\n",
    "from torch.amp import GradScaler\n",
    "from torch.amp import autocast\n",
    "import gc\n",
    "import subprocess\n"
   ]
  },
  {
   "cell_type": "code",
   "execution_count": null,
   "id": "fc386c9e",
   "metadata": {},
   "outputs": [],
   "source": [
    "DATASET = 'CIFAR100'\n",
    "DATA_DIR = ''\n",
    "\n",
    "# loading data\n",
    "print(f'loading dataset : {DATASET}')\n",
    "loader = DatasetLoader(dataset_name=DATASET,\n",
    "                        data_dir=DATA_DIR,\n",
    "                        batch_size=BATCH,\n",
    "                        num_workers=NUM_WORKERS,\n",
    "                        img_size=IMAGE)\n",
    "train_loader, val_loader = loader.get_loaders()\n",
    "print(f\"Train batches: {len(train_loader)}, Validation batches: {len(val_loader)}\")\n",
    "print('data sanity check')\n",
    "for images, labels in train_loader:\n",
    "    print(f'image shape and labels shape in training data - one batch : {images.shape}, {labels.shape}')\n",
    "    break"
   ]
  },
  {
   "cell_type": "code",
   "execution_count": null,
   "id": "393d5389",
   "metadata": {},
   "outputs": [],
   "source": [
    "\n",
    "BATCH_SIZE = 128\n",
    "IMAGE_SIZE = 224\n",
    "CHANNELS = 3\n",
    "NUM_STEPS = 100\n",
    "NUM_WARMUP = 10\n",
    "\n",
    "model.to(device)\n",
    "model.eval()\n",
    "\n",
    "dummy_input = torch.randn(BATCH_SIZE, CHANNELS, IMAGE_SIZE, IMAGE_SIZE).to(device)\n",
    "#warmup\n",
    "for _ in range(NUM_WARMUP):\n",
    "    _ = model(dummy_input)\n",
    "\n",
    "#benchmark\n",
    "torch.cuda.synchronize()\n",
    "start = time.time()\n",
    "for _ in range(NUM_STEPS):\n",
    "    _ = model(dummy_input)\n",
    "    torch.cuda.synchronize()\n",
    "end = time.time()\n",
    "total_images = BATCH_SIZE * NUM_STEPS\n",
    "elapsed_time = end - start\n",
    "throughput = round(total_images / elapsed_time, 2)\n",
    "return throughput"
   ]
  },
  {
   "cell_type": "code",
   "execution_count": null,
   "id": "28945064",
   "metadata": {},
   "outputs": [],
   "source": []
  },
  {
   "cell_type": "code",
   "execution_count": null,
   "id": "1ce845fa",
   "metadata": {},
   "outputs": [],
   "source": []
  }
 ],
 "metadata": {
  "kernelspec": {
   "display_name": "_vit_rep_py310",
   "language": "python",
   "name": "python3"
  },
  "language_info": {
   "codemirror_mode": {
    "name": "ipython",
    "version": 3
   },
   "file_extension": ".py",
   "mimetype": "text/x-python",
   "name": "python",
   "nbconvert_exporter": "python",
   "pygments_lexer": "ipython3",
   "version": "3.10.12"
  }
 },
 "nbformat": 4,
 "nbformat_minor": 5
}
